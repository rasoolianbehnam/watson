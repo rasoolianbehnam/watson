{
 "cells": [
  {
   "cell_type": "code",
   "execution_count": 1,
   "metadata": {},
   "outputs": [
    {
     "name": "stdout",
     "output_type": "stream",
     "text": [
      "Populating the interactive namespace from numpy and matplotlib\n"
     ]
    },
    {
     "name": "stderr",
     "output_type": "stream",
     "text": [
      "/home/bzr0014/anaconda3/lib/python3.6/site-packages/IPython/core/magics/pylab.py:160: UserWarning: pylab import has clobbered these variables: ['colors', 'log']\n",
      "`%matplotlib` prevents importing * from pylab and numpy\n",
      "  \"\\n`%matplotlib` prevents importing * from pylab and numpy\"\n"
     ]
    }
   ],
   "source": [
    "import numpy as np\n",
    "import tensorflow as tf\n",
    "from utility import *\n",
    "import matplotlib.pyplot as plt\n",
    "from matplotlib import colors\n",
    "import os\n",
    "%load_ext autoreload\n",
    "%autoreload 2\n",
    "%pylab inline"
   ]
  },
  {
   "cell_type": "code",
   "execution_count": 3,
   "metadata": {},
   "outputs": [
    {
     "name": "stdout",
     "output_type": "stream",
     "text": [
      "6053 6084\n"
     ]
    }
   ],
   "source": [
    "X_orig, y_orig = loadData()\n",
    "X_orig = np.array(X_orig).reshape(-1, 23, 23, 1)\n",
    "y_orig = np.array(y_orig)\n",
    "X_orig = (X_orig - X_orig.mean() )/ X_orig.std()"
   ]
  },
  {
   "cell_type": "code",
   "execution_count": 4,
   "metadata": {},
   "outputs": [
    {
     "name": "stdout",
     "output_type": "stream",
     "text": [
      "(150000, 23, 23, 1)\n",
      "(150000,)\n"
     ]
    }
   ],
   "source": [
    "X_total = X_orig[:200000]\n",
    "y_total = y_orig[:200000]\n",
    "X_train = X_total[:150000]\n",
    "y_train = y_total[:150000]\n",
    "X_val = X_total[150000:]\n",
    "y_val = y_total[150000:]\n",
    "print(X_train.shape)\n",
    "print(y_train.shape)"
   ]
  },
  {
   "cell_type": "code",
   "execution_count": 5,
   "metadata": {},
   "outputs": [],
   "source": [
    "tf.reset_default_graph()\n",
    "\n",
    "X = tf.placeholder(tf.float32, [None, 23, 23, 1])\n",
    "y = tf.placeholder(tf.float32, [None])\n",
    "is_training = tf.placeholder(tf.bool)\n",
    "\n",
    "def myModel(X, y):\n",
    "    Wconv1 = tf.get_variable(\"Wconv1\", shape=[3, 3, 1, 23])\n",
    "    bconv1 = tf.get_variable(\"bconv1\", shape=[23])\n",
    "    Wconv2 = tf.get_variable(\"Wconv2\", shape=[3, 3, 23, 23])\n",
    "    bconv2 = tf.get_variable(\"bconv2\", shape=[23])\n",
    "    W1 = tf.get_variable(\"W1\", shape=[8303, 10])\n",
    "    b1 = tf.get_variable(\"b1\", shape=[10])\n",
    "    W2 = tf.get_variable(\"W2\", shape=[10, 1])\n",
    "    b2 = tf.get_variable(\"b2\", shape=[1])\n",
    "    \n",
    "    a1 = tf.nn.conv2d(X, Wconv1, strides=[1, 1, 1, 1], padding=\"VALID\") + bconv1\n",
    "    h1 = tf.nn.relu(a1)\n",
    "    a2 = tf.nn.conv2d(h1, Wconv2, strides=[1, 1, 1, 1], padding=\"VALID\") + bconv2\n",
    "    h2 = tf.nn.relu(a2)\n",
    "    h2_flat = tf.reshape(h2, [-1, 8303])\n",
    "    h3 = tf.matmul(h2_flat, W1) + b1\n",
    "    y_out = tf.matmul(h3, W2) + b2\n",
    "    return y_out\n",
    "\n",
    "y_out = myModel(X, y)\n",
    "\n",
    "diff = y - y_out\n",
    "mean_loss = tf.reduce_mean(tf.pow(y_out - y,2))\n",
    "\n",
    "optimizer = tf.train.AdamOptimizer(1)\n",
    "train_step = optimizer.minimize(mean_loss)"
   ]
  },
  {
   "cell_type": "code",
   "execution_count": 6,
   "metadata": {},
   "outputs": [
    {
     "name": "stdout",
     "output_type": "stream",
     "text": [
      "Training\n",
      "Iteration 0: with minibatch training loss = 1.1e+09\n",
      "Iteration 100: with minibatch training loss = 3.94e+05\n",
      "Iteration 200: with minibatch training loss = 4.1e+08\n",
      "Iteration 300: with minibatch training loss = 2.17e+07\n",
      "Iteration 400: with minibatch training loss = 6.88e+08\n",
      "Iteration 500: with minibatch training loss = 5.47e+06\n",
      "Iteration 600: with minibatch training loss = 5.92e+06\n",
      "Iteration 700: with minibatch training loss = 4.57e+06\n",
      "Iteration 800: with minibatch training loss = 3.19e+06\n",
      "Iteration 900: with minibatch training loss = 3.2e+06\n",
      "Iteration 1000: with minibatch training loss = 1.17e+08\n",
      "Iteration 1100: with minibatch training loss = 1.08e+09\n",
      "Iteration 1200: with minibatch training loss = 1.26e+08\n",
      "Iteration 1300: with minibatch training loss = 8.44e+07\n",
      "Iteration 1400: with minibatch training loss = 9.93e+08\n",
      "Iteration 1500: with minibatch training loss = 6.11e+06\n",
      "Iteration 1600: with minibatch training loss = 5.02e+06\n",
      "Iteration 1700: with minibatch training loss = 2.69e+08\n",
      "Iteration 1800: with minibatch training loss = 2.68e+06\n",
      "Iteration 1900: with minibatch training loss = 3.38e+09\n",
      "Iteration 2000: with minibatch training loss = 1.84e+07\n",
      "Iteration 2100: with minibatch training loss = 5.95e+08\n",
      "Iteration 2200: with minibatch training loss = 4.31e+06\n",
      "Iteration 2300: with minibatch training loss = 5.52e+06\n",
      "Epoch 1, Overall loss = 2.12e+09\n"
     ]
    },
    {
     "data": {
      "image/png": "[encoded data removed]",
      "text/plain": [
       "<matplotlib.figure.Figure at 0x7fed8f83e518>"
      ]
     },
     "metadata": {},
     "output_type": "display_data"
    },
    {
     "name": "stdout",
     "output_type": "stream",
     "text": [
      "Validation\n",
      "Epoch 1, Overall loss = 1.56e+08\n"
     ]
    }
   ],
   "source": [
    "def run_model(session, predict, loss_val, Xd, yd,\n",
    "              epochs=1, batch_size=2000, print_every=100,\n",
    "              training=None, plot_losses=False):\n",
    "    # shuffle indicies\n",
    "    train_indicies = np.arange(Xd.shape[0])\n",
    "    np.random.shuffle(train_indicies)\n",
    "\n",
    "    training_now = training is not None\n",
    "    \n",
    "    # setting up variables we want to compute (and optimizing)\n",
    "    # if we have a training function, add that to things we compute\n",
    "    variables = [mean_loss, mean_loss]\n",
    "    if training_now:\n",
    "        variables[-1] = training\n",
    "    # counter \n",
    "    iter_cnt = 0\n",
    "    for e in range(epochs):\n",
    "        # keep track of losses and accuracy\n",
    "        correct = 0\n",
    "        losses = []\n",
    "        # make sure we iterate over the dataset once\n",
    "        for i in range(int(math.ceil(Xd.shape[0]/batch_size))):\n",
    "            # generate indicies for the batch\n",
    "            start_idx = (i*batch_size)%Xd.shape[0]\n",
    "            idx = train_indicies[start_idx:start_idx+batch_size]\n",
    "            \n",
    "            # create a feed dictionary for this batch\n",
    "            feed_dict = {X: Xd[idx,:],\n",
    "                         y: yd[idx],\n",
    "                         is_training: training_now }\n",
    "            # get batch size\n",
    "            actual_batch_size = yd[idx].shape[0]\n",
    "            \n",
    "            # have tensorflow compute loss and correct predictions\n",
    "            # and (if given) perform a training step\n",
    "            loss, _ = session.run(variables,feed_dict=feed_dict)\n",
    "            \n",
    "            # aggregate performance stats\n",
    "            losses.append(loss*actual_batch_size)\n",
    "            \n",
    "            # print every now and then\n",
    "            if training_now and (iter_cnt % print_every) == 0:\n",
    "                print(\"Iteration {0}: with minibatch training loss = {1:.3g}\"\\\n",
    "                      .format(iter_cnt,loss))\n",
    "            iter_cnt += 1\n",
    "        total_correct = correct/Xd.shape[0]\n",
    "        total_loss = np.sum(losses)/Xd.shape[0]\n",
    "        print(\"Epoch {1}, Overall loss = {0:.3g}\"\\\n",
    "              .format(total_loss,e+1))\n",
    "        if plot_losses:\n",
    "            plt.plot(losses)\n",
    "            plt.grid(True)\n",
    "            plt.title('Epoch {} Loss'.format(e+1))\n",
    "            plt.xlabel('minibatch number')\n",
    "            plt.ylabel('minibatch loss')\n",
    "            plt.show()\n",
    "    return total_loss,total_correct\n",
    "\n",
    "with tf.Session() as sess:\n",
    "    with tf.device(\"/cpu:0\"):\n",
    "        sess.run(tf.global_variables_initializer())\n",
    "        print('Training')\n",
    "        run_model(sess,y_out,mean_loss,X_train,y_train,1,64,100,train_step,True)\n",
    "        print('Validation')\n",
    "        run_model(sess,y_out,mean_loss,X_val,y_val,1,64)"
   ]
  },
  {
   "cell_type": "code",
   "execution_count": 6,
   "metadata": {
    "scrolled": true
   },
   "outputs": [
    {
     "name": "stdout",
     "output_type": "stream",
     "text": [
      "[[  95.71111314  100.46992587   94.95289172   99.20803101   97.32809212]\n",
      " [ 102.95435399  102.20496719  100.22553129  100.20825016  106.58768025]\n",
      " [  93.17672803   95.5829007    95.57843284   95.44182344  100.18459808]]\n",
      "\n",
      "\n",
      "[[  95.71111314  100.46992587   94.95289172   99.20803101   97.32809212]\n",
      " [ 102.95435399  102.20496719  100.22553129  100.20825016  106.58768025]\n",
      " [  93.17672803   95.5829007    95.57843284   95.44182344  100.18459808]]\n"
     ]
    }
   ],
   "source": [
    "a = tf.sparse_placeholder(tf.float64)\n",
    "b = tf.placeholder(tf.float64)\n",
    "\n",
    "ao = scipy.sparse.rand(3, 1000, density=.4)\n",
    "tf_ao = tf.SparseTensorValue(\n",
    "    indices=np.array([ao.row, ao.col]).T,\n",
    "    values=ao.data,\n",
    "    dense_shape=ao.shape)\n",
    "bo = np.random.rand(1000, 5)\n",
    "\n",
    "c = tf.sparse_tensor_dense_matmul(a, b)\n",
    "\n",
    "feed_dict = {a: tf_ao, b: bo}\n",
    "\n",
    "with tf.Session() as sess:\n",
    "    with tf.device(\"/gpu:0\"):\n",
    "        out = sess.run(c, feed_dict=feed_dict)\n",
    "        print(out)\n",
    "        print(\"\\n\")\n",
    "        print(ao.dot(bo))"
   ]
  },
  {
   "cell_type": "code",
   "execution_count": null,
   "metadata": {},
   "outputs": [],
   "source": []
  }
 ],
 "metadata": {
  "kernelspec": {
   "display_name": "Python 3",
   "language": "python",
   "name": "python3"
  },
  "language_info": {
   "codemirror_mode": {
    "name": "ipython",
    "version": 3
   },
   "file_extension": ".py",
   "mimetype": "text/x-python",
   "name": "python",
   "nbconvert_exporter": "python",
   "pygments_lexer": "ipython3",
   "version": "3.6.3"
  }
 },
 "nbformat": 4,
 "nbformat_minor": 2
}
