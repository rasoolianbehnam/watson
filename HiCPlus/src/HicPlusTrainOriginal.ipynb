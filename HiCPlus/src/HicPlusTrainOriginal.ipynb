{
 "cells": [
  {
   "cell_type": "code",
   "execution_count": 1,
   "metadata": {},
   "outputs": [
    {
     "name": "stdout",
     "output_type": "stream",
     "text": [
      "Populating the interactive namespace from numpy and matplotlib\n"
     ]
    },
    {
     "name": "stderr",
     "output_type": "stream",
     "text": [
      "/home/bzr0014/anaconda3/envs/tensorCpu/lib/python3.6/site-packages/theano/tensor/signal/downsample.py:6: UserWarning: downsample module has been moved to the theano.tensor.signal.pool module.\n",
      "  \"downsample module has been moved to the theano.tensor.signal.pool module.\")\n",
      "/home/bzr0014/anaconda3/envs/tensorCpu/lib/python3.6/site-packages/sklearn/cross_validation.py:41: DeprecationWarning: This module was deprecated in version 0.18 in favor of the model_selection module into which all the refactored classes and functions are moved. Also note that the interface of the new CV iterators are different from that of this module. This module will be removed in 0.20.\n",
      "  \"This module will be removed in 0.20.\", DeprecationWarning)\n",
      "/home/bzr0014/anaconda3/envs/tensorCpu/lib/python3.6/site-packages/IPython/core/magics/pylab.py:160: UserWarning: pylab import has clobbered these variables: ['colors', 'log']\n",
      "`%matplotlib` prevents importing * from pylab and numpy\n",
      "  \"\\n`%matplotlib` prevents importing * from pylab and numpy\"\n"
     ]
    }
   ],
   "source": [
    "import sys\n",
    "import numpy as np\n",
    "import matplotlib.pyplot as plt\n",
    "import pickle\n",
    "import os\n",
    "import gzip\n",
    "import lasagne\n",
    "from lasagne import layers\n",
    "from nolearn.lasagne import NeuralNet\n",
    "from lasagne.updates import sgd\n",
    "from utility import *\n",
    "%load_ext autoreload\n",
    "%autoreload 2\n",
    "%pylab inline"
   ]
  },
  {
   "cell_type": "code",
   "execution_count": 2,
   "metadata": {},
   "outputs": [],
   "source": [
    "pylab.rcParams['figure.figsize'] = (15, 9)\n",
    "sys.setrecursionlimit(10000)\n",
    "conv2d1_filters_numbers = 8\n",
    "conv2d1_filters_size = 9\n",
    "conv2d2_filters_numbers = 8\n",
    "conv2d2_filters_size = 1\n",
    "conv2d3_filters_numbers = 1\n",
    "conv2d3_filters_size = 5\n",
    "\n",
    "down_sample_ratio = 16\n",
    "learning_rate = 0.00001\n",
    "epochs = 10\n",
    "HiC_max_value = 100"
   ]
  },
  {
   "cell_type": "code",
   "execution_count": 3,
   "metadata": {},
   "outputs": [],
   "source": [
    "low_resolution_samples = np.load(gzip.GzipFile('../data/GM12878_replicate_down16_chr19_22.npy.gz', \"r\")) * down_sample_ratio\n",
    "high_resolution_samples = np.load(gzip.GzipFile('../data/GM12878_replicate_original_chr19_22.npy.gz', \"r\"))"
   ]
  },
  {
   "cell_type": "code",
   "execution_count": 4,
   "metadata": {},
   "outputs": [
    {
     "name": "stdout",
     "output_type": "stream",
     "text": [
      "(14689, 1, 40, 40)\n",
      "(14689, 1, 40, 40)\n"
     ]
    }
   ],
   "source": [
    "print(low_resolution_samples.shape)\n",
    "print(high_resolution_samples.shape)"
   ]
  },
  {
   "cell_type": "code",
   "execution_count": 11,
   "metadata": {},
   "outputs": [
    {
     "name": "stdout",
     "output_type": "stream",
     "text": [
      "40\n",
      "28\n"
     ]
    }
   ],
   "source": [
    "sample_size = low_resolution_samples.shape[-1]\n",
    "padding = conv2d1_filters_size + conv2d2_filters_size + conv2d3_filters_size - 3\n",
    "half_padding = padding // 2\n",
    "output_length = sample_size - padding\n",
    "print(sample_size)\n",
    "print(output_length)"
   ]
  },
  {
   "cell_type": "code",
   "execution_count": 12,
   "metadata": {},
   "outputs": [],
   "source": [
    "Y = high_resolution_samples[:, 0, half_padding:(sample_size-half_padding), half_padding:(sample_size-half_padding)]\n",
    "Y = Y.reshape(Y.shape[0], -1)\n",
    "X = low_resolution_samples"
   ]
  },
  {
   "cell_type": "code",
   "execution_count": 13,
   "metadata": {},
   "outputs": [
    {
     "name": "stdout",
     "output_type": "stream",
     "text": [
      "(14689, 1, 40, 40)\n",
      "(14689, 784)\n"
     ]
    }
   ],
   "source": [
    "print(X.shape)\n",
    "print(Y.shape)"
   ]
  },
  {
   "cell_type": "code",
   "execution_count": null,
   "metadata": {},
   "outputs": [],
   "source": [
    "net1 = NeuralNet(\n",
    "    layers=[\n",
    "        ('input', layers.InputLayer),\n",
    "        ('conv2d1', layers.Conv2DLayer),\n",
    "        ('conv2d2', layers.Conv2DLayer),\n",
    "        ('conv2d3', layers.Conv2DLayer),\n",
    "        ('output_layer', layers.FlattenLayer),\n",
    "        ],\n",
    "    input_shape=(None, 1, sample_size, sample_size),\n",
    "    conv2d1_num_filters=conv2d1_filters_numbers,\n",
    "    conv2d1_filter_size = (conv2d1_filters_size, conv2d1_filters_size),\n",
    "    conv2d1_nonlinearity=lasagne.nonlinearities.rectify,\n",
    "    conv2d1_W=lasagne.init.GlorotUniform(),\n",
    "    conv2d2_num_filters=conv2d2_filters_numbers,\n",
    "    conv2d2_filter_size = (conv2d2_filters_size, conv2d2_filters_size),\n",
    "    conv2d2_nonlinearity=lasagne.nonlinearities.rectify,\n",
    "    conv2d3_num_filters=conv2d3_filters_numbers,\n",
    "    conv2d3_nonlinearity=lasagne.nonlinearities.rectify,\n",
    "    conv2d3_filter_size = (conv2d3_filters_size, conv2d3_filters_size),\n",
    "    update=sgd,\n",
    "    update_learning_rate = learning_rate,\n",
    "    regression=True,\n",
    "    max_epochs= epochs,\n",
    "    verbose=1,\n",
    "    )"
   ]
  },
  {
   "cell_type": "code",
   "execution_count": null,
   "metadata": {},
   "outputs": [],
   "source": [
    "#net1.fit(X, Y)"
   ]
  },
  {
   "cell_type": "code",
   "execution_count": null,
   "metadata": {},
   "outputs": [],
   "source": [
    "output_model_name = '../model/test_model'\n",
    "\n",
    "f = file(output_model_name + '.net', 'wb')\n",
    "\n",
    "pickle.dump(net1,f,protocol=pickle.HIGHEST_PROTOCOL)\n",
    "f.close()"
   ]
  },
  {
   "cell_type": "code",
   "execution_count": null,
   "metadata": {},
   "outputs": [],
   "source": []
  }
 ],
 "metadata": {
  "kernelspec": {
   "display_name": "Python 3",
   "language": "python",
   "name": "python3"
  },
  "language_info": {
   "codemirror_mode": {
    "name": "ipython",
    "version": 3
   },
   "file_extension": ".py",
   "mimetype": "text/x-python",
   "name": "python",
   "nbconvert_exporter": "python",
   "pygments_lexer": "ipython3",
   "version": "3.6.5"
  }
 },
 "nbformat": 4,
 "nbformat_minor": 2
}
