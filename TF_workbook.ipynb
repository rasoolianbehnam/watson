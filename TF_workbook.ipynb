{
 "cells": [
  {
   "cell_type": "code",
   "execution_count": 18,
   "metadata": {},
   "outputs": [
    {
     "name": "stdout",
     "output_type": "stream",
     "text": [
      "The autoreload extension is already loaded. To reload it, use:\n",
      "  %reload_ext autoreload\n",
      "Populating the interactive namespace from numpy and matplotlib\n"
     ]
    },
    {
     "name": "stderr",
     "output_type": "stream",
     "text": [
      "/home/bzr0014/watson/scripts/virt/local/lib/python2.7/site-packages/IPython/core/magics/pylab.py:161: UserWarning: pylab import has clobbered these variables: ['colors', 'diff', 'log']\n",
      "`%matplotlib` prevents importing * from pylab and numpy\n",
      "  \"\\n`%matplotlib` prevents importing * from pylab and numpy\"\n"
     ]
    }
   ],
   "source": [
    "import numpy as np\n",
    "import tensorflow as tf\n",
    "from utility import *\n",
    "import matplotlib.pyplot as plt\n",
    "from matplotlib import colors\n",
    "import os\n",
    "%load_ext autoreload\n",
    "%autoreload 2\n",
    "%pylab inline"
   ]
  },
  {
   "cell_type": "code",
   "execution_count": 2,
   "metadata": {},
   "outputs": [
    {
     "name": "stdout",
     "output_type": "stream",
     "text": [
      "(6053, 6084)\n"
     ]
    }
   ],
   "source": [
    "X_orig, y_orig = loadData()"
   ]
  },
  {
   "cell_type": "code",
   "execution_count": 3,
   "metadata": {},
   "outputs": [
    {
     "name": "stdout",
     "output_type": "stream",
     "text": [
      "(70000, 23, 23, 1)\n",
      "(70000,)\n"
     ]
    }
   ],
   "source": [
    "X_orig = np.array(X_orig).reshape(-1, 23, 23, 1)\n",
    "y_orig = np.array(y_orig)\n",
    "X_orig = (X_orig - X_orig.mean() )/ X_orig.std()\n",
    "X_total = X_orig[:100000]\n",
    "y_total = y_orig[:100000]\n",
    "X_train = X_total[:70000]\n",
    "y_train = y_total[:70000]\n",
    "X_val = X_total[70000:]\n",
    "y_val = y_total[70000:]\n",
    "print(X_train.shape)\n",
    "print(y_train.shape)"
   ]
  },
  {
   "cell_type": "code",
   "execution_count": 16,
   "metadata": {},
   "outputs": [],
   "source": [
    "tf.reset_default_graph()\n",
    "\n",
    "X = tf.placeholder(tf.float32, [None, 23, 23, 1])\n",
    "y = tf.placeholder(tf.float32, [None])\n",
    "is_training = tf.placeholder(tf.bool)\n",
    "\n",
    "def myModel(X, y):\n",
    "    Wconv1 = tf.get_variable(\"Wconv1\", shape=[3, 3, 1, 23])\n",
    "    bconv1 = tf.get_variable(\"bconv1\", shape=[23])\n",
    "    Wconv2 = tf.get_variable(\"Wconv2\", shape=[3, 3, 23, 23])\n",
    "    bconv2 = tf.get_variable(\"bconv2\", shape=[23])\n",
    "    W1 = tf.get_variable(\"W1\", shape=[8303, 10])\n",
    "    b1 = tf.get_variable(\"b1\", shape=[10])\n",
    "    W2 = tf.get_variable(\"W2\", shape=[10, 1])\n",
    "    b2 = tf.get_variable(\"b2\", shape=[1])\n",
    "    \n",
    "    a1 = tf.nn.conv2d(X, Wconv1, strides=[1, 1, 1, 1], padding=\"VALID\") + bconv1\n",
    "    h1 = tf.nn.relu(a1)\n",
    "    a2 = tf.nn.conv2d(h1, Wconv2, strides=[1, 1, 1, 1], padding=\"VALID\") + bconv2\n",
    "    h2 = tf.nn.relu(a2)\n",
    "    h2_flat = tf.reshape(h2, [-1, 8303])\n",
    "    h3 = tf.matmul(h2_flat, W1) + b1\n",
    "    y_out = tf.matmul(h3, W2) + b2\n",
    "    return y_out\n",
    "\n",
    "y_out = myModel(X, y)\n",
    "\n",
    "diff = y - y_out\n",
    "mean_loss = tf.reduce_mean(tf.pow(y_out - y,2))\n",
    "\n",
    "optimizer = tf.train.AdamOptimizer(5e-2)\n",
    "train_step = optimizer.minimize(mean_loss)"
   ]
  },
  {
   "cell_type": "code",
   "execution_count": 17,
   "metadata": {},
   "outputs": [
    {
     "name": "stdout",
     "output_type": "stream",
     "text": [
      "Training\n",
      "Iteration 0: with minibatch training loss = 1.68e+08\n",
      "Iteration 100: with minibatch training loss = 1.1e+07\n",
      "Iteration 200: with minibatch training loss = 6.38e+08\n",
      "Iteration 300: with minibatch training loss = 2.74e+09\n",
      "Iteration 400: with minibatch training loss = 2.11e+08\n",
      "Iteration 500: with minibatch training loss = 5.3e+06\n",
      "Iteration 600: with minibatch training loss = 1.7e+08\n",
      "Iteration 700: with minibatch training loss = 1.71e+08\n",
      "Iteration 800: with minibatch training loss = 5.66e+06\n",
      "Iteration 900: with minibatch training loss = 7.94e+08\n",
      "Iteration 1000: with minibatch training loss = 1.74e+06\n",
      "Epoch 1, Overall loss = 4.39e+08\n"
     ]
    },
    {
     "data": {
      "image/png": "[encoded data removed]",
      "text/plain": [
       "<matplotlib.figure.Figure at 0x7f58aac7e7d0>"
      ]
     },
     "metadata": {},
     "output_type": "display_data"
    },
    {
     "name": "stdout",
     "output_type": "stream",
     "text": [
      "Validation\n",
      "Epoch 1, Overall loss = 2.05e+08\n"
     ]
    }
   ],
   "source": [
    "def run_model(session, predict, loss_val, Xd, yd,\n",
    "              epochs=1, batch_size=2000, print_every=100,\n",
    "              training=None, plot_losses=False):\n",
    "    # shuffle indicies\n",
    "    train_indicies = np.arange(Xd.shape[0])\n",
    "    np.random.shuffle(train_indicies)\n",
    "\n",
    "    training_now = training is not None\n",
    "    \n",
    "    # setting up variables we want to compute (and optimizing)\n",
    "    # if we have a training function, add that to things we compute\n",
    "    variables = [mean_loss, mean_loss]\n",
    "    if training_now:\n",
    "        variables[-1] = training\n",
    "    # counter \n",
    "    iter_cnt = 0\n",
    "    for e in range(epochs):\n",
    "        # keep track of losses and accuracy\n",
    "        correct = 0\n",
    "        losses = []\n",
    "        # make sure we iterate over the dataset once\n",
    "        for i in range(int(math.ceil(Xd.shape[0]/batch_size))):\n",
    "            # generate indicies for the batch\n",
    "            start_idx = (i*batch_size)%Xd.shape[0]\n",
    "            idx = train_indicies[start_idx:start_idx+batch_size]\n",
    "            \n",
    "            # create a feed dictionary for this batch\n",
    "            feed_dict = {X: Xd[idx,:],\n",
    "                         y: yd[idx],\n",
    "                         is_training: training_now }\n",
    "            # get batch size\n",
    "            actual_batch_size = yd[idx].shape[0]\n",
    "            \n",
    "            # have tensorflow compute loss and correct predictions\n",
    "            # and (if given) perform a training step\n",
    "            loss, _ = session.run(variables,feed_dict=feed_dict)\n",
    "            \n",
    "            # aggregate performance stats\n",
    "            losses.append(loss*actual_batch_size)\n",
    "            \n",
    "            # print every now and then\n",
    "            if training_now and (iter_cnt % print_every) == 0:\n",
    "                print(\"Iteration {0}: with minibatch training loss = {1:.3g}\"\\\n",
    "                      .format(iter_cnt,loss))\n",
    "            iter_cnt += 1\n",
    "        total_correct = correct/Xd.shape[0]\n",
    "        total_loss = np.sum(losses)/Xd.shape[0]\n",
    "        print(\"Epoch {1}, Overall loss = {0:.3g}\"\\\n",
    "              .format(total_loss,e+1))\n",
    "        if plot_losses:\n",
    "            plt.plot(losses)\n",
    "            plt.grid(True)\n",
    "            plt.title('Epoch {} Loss'.format(e+1))\n",
    "            plt.xlabel('minibatch number')\n",
    "            plt.ylabel('minibatch loss')\n",
    "            plt.show()\n",
    "    return total_loss,total_correct\n",
    "\n",
    "with tf.Session() as sess:\n",
    "    sess.run(tf.global_variables_initializer())\n",
    "    print('Training')\n",
    "    run_model(sess,y_out,mean_loss,X_train,y_train,1,64,100,train_step,True)\n",
    "    print('Validation')\n",
    "    run_model(sess,y_out,mean_loss,X_val,y_val,1,64)"
   ]
  },
  {
   "cell_type": "code",
   "execution_count": null,
   "metadata": {},
   "outputs": [],
   "source": []
  }
 ],
 "metadata": {
  "kernelspec": {
   "display_name": "Python 2",
   "language": "python",
   "name": "python2"
  },
  "language_info": {
   "codemirror_mode": {
    "name": "ipython",
    "version": 2
   },
   "file_extension": ".py",
   "mimetype": "text/x-python",
   "name": "python",
   "nbconvert_exporter": "python",
   "pygments_lexer": "ipython2",
   "version": "2.7.12"
  }
 },
 "nbformat": 4,
 "nbformat_minor": 2
}
