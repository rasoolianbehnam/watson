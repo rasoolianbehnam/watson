{
 "cells": [
  {
   "cell_type": "code",
   "execution_count": 1,
   "metadata": {},
   "outputs": [
    {
     "name": "stdout",
     "output_type": "stream",
     "text": [
      "Populating the interactive namespace from numpy and matplotlib\n"
     ]
    },
    {
     "name": "stderr",
     "output_type": "stream",
     "text": [
      "/home/bzr0014/watson/scripts/virt/local/lib/python2.7/site-packages/IPython/core/magics/pylab.py:161: UserWarning: pylab import has clobbered these variables: ['colors', 'log']\n",
      "`%matplotlib` prevents importing * from pylab and numpy\n",
      "  \"\\n`%matplotlib` prevents importing * from pylab and numpy\"\n"
     ]
    }
   ],
   "source": [
    "import numpy as np\n",
    "import cv2\n",
    "from iced import filter\n",
    "from iced import normalization\n",
    "from utility import *\n",
    "import matplotlib.pyplot as plt\n",
    "from matplotlib import colors\n",
    "from iced import normalization\n",
    "from iced import filter\n",
    "from scipy.stats import t\n",
    "import os\n",
    "%load_ext autoreload\n",
    "%autoreload 2\n",
    "%pylab inline"
   ]
  },
  {
   "cell_type": "code",
   "execution_count": 5,
   "metadata": {},
   "outputs": [
    {
     "name": "stdout",
     "output_type": "stream",
     "text": [
      "File Directory: \"../data//extracted_all_contact_%s\"\n",
      "File Name Template: \"../data//extracted_all_contact_%s/all_in_one_500kb.npy\"\n"
     ]
    }
   ],
   "source": [
    "name = \"MIT\"\n",
    "root = \"../data\"\n",
    "file_dir_template = \"/extracted_all_contact_%s\"\n",
    "file_dir_template = \"%s/%s\"%(root, file_dir_template)\n",
    "file_name_template = \"%s/all_in_one_500kb.npy\"%(file_dir_template)\n",
    "print(\"File Directory: \\\"%s\\\"\"%file_dir_template)\n",
    "print(\"File Name Template: \\\"%s\\\"\"%file_name_template)"
   ]
  },
  {
   "cell_type": "code",
   "execution_count": 6,
   "metadata": {},
   "outputs": [],
   "source": [
    "low_res = {}\n",
    "mit_low = np.load(file_name_template%name)\n",
    "all_low = np.load(file_name_template%'ALL')"
   ]
  },
  {
   "cell_type": "code",
   "execution_count": 7,
   "metadata": {},
   "outputs": [
    {
     "name": "stdout",
     "output_type": "stream",
     "text": [
      "Number of rows and columns: 1, 1\n"
     ]
    },
    {
     "data": {
      "image/png": "[encoded data removed]",
      "text/plain": [
       "<matplotlib.figure.Figure at 0x7f15e7c2fcd0>"
      ]
     },
     "metadata": {},
     "output_type": "display_data"
    }
   ],
   "source": [
    "pylab.rcParams['figure.figsize'] = (5, 4)\n",
    "#fig, axes = plt.subplots(ncols=1)\n",
    "#m = axes.imshow(grand_scheme_of_things, cmap=\"RdBu_r\", norm=colors.SymLogNorm(1))\n",
    "#cb = fig.colorbar(m)\n",
    "#plt.show()\n",
    "images = []\n",
    "images.append(mit_low)\n",
    "showImages(images, 1,\\\n",
    "           color_bar = True, titles=name)"
   ]
  },
  {
   "cell_type": "code",
   "execution_count": 8,
   "metadata": {},
   "outputs": [
    {
     "name": "stdout",
     "output_type": "stream",
     "text": [
      "../data/GM12878_combined/500kb_resolution_intrachromosomal/chr1/MAPQGE30/chr1_500kb.RAWobserved\n",
      "(499, 499)\n",
      "../data/GM12878_combined/500kb_resolution_intrachromosomal/chr2/MAPQGE30/chr2_500kb.RAWobserved\n",
      "(986, 986)\n",
      "../data/GM12878_combined/500kb_resolution_intrachromosomal/chr3/MAPQGE30/chr3_500kb.RAWobserved\n",
      "(1382, 1382)\n",
      "../data/GM12878_combined/500kb_resolution_intrachromosomal/chr4/MAPQGE30/chr4_500kb.RAWobserved\n",
      "(1765, 1765)\n",
      "../data/GM12878_combined/500kb_resolution_intrachromosomal/chr5/MAPQGE30/chr5_500kb.RAWobserved\n",
      "(2127, 2127)\n",
      "../data/GM12878_combined/500kb_resolution_intrachromosomal/chr6/MAPQGE30/chr6_500kb.RAWobserved\n",
      "(2470, 2470)\n",
      "../data/GM12878_combined/500kb_resolution_intrachromosomal/chr7/MAPQGE30/chr7_500kb.RAWobserved\n",
      "(2789, 2789)\n",
      "../data/GM12878_combined/500kb_resolution_intrachromosomal/chr8/MAPQGE30/chr8_500kb.RAWobserved\n",
      "(3082, 3082)\n",
      "../data/GM12878_combined/500kb_resolution_intrachromosomal/chr9/MAPQGE30/chr9_500kb.RAWobserved\n",
      "(3365, 3365)\n",
      "../data/GM12878_combined/500kb_resolution_intrachromosomal/chr10/MAPQGE30/chr10_500kb.RAWobserved\n",
      "(3637, 3637)\n",
      "../data/GM12878_combined/500kb_resolution_intrachromosomal/chr11/MAPQGE30/chr11_500kb.RAWobserved\n",
      "(3907, 3907)\n",
      "../data/GM12878_combined/500kb_resolution_intrachromosomal/chr12/MAPQGE30/chr12_500kb.RAWobserved\n",
      "(4175, 4175)\n",
      "../data/GM12878_combined/500kb_resolution_intrachromosomal/chr13/MAPQGE30/chr13_500kb.RAWobserved\n",
      "(4406, 4406)\n",
      "../data/GM12878_combined/500kb_resolution_intrachromosomal/chr14/MAPQGE30/chr14_500kb.RAWobserved\n",
      "(4621, 4621)\n",
      "../data/GM12878_combined/500kb_resolution_intrachromosomal/chr15/MAPQGE30/chr15_500kb.RAWobserved\n",
      "(4827, 4827)\n",
      "../data/GM12878_combined/500kb_resolution_intrachromosomal/chr16/MAPQGE30/chr16_500kb.RAWobserved\n",
      "(5008, 5008)\n",
      "../data/GM12878_combined/500kb_resolution_intrachromosomal/chr17/MAPQGE30/chr17_500kb.RAWobserved\n",
      "(5171, 5171)\n",
      "../data/GM12878_combined/500kb_resolution_intrachromosomal/chr18/MAPQGE30/chr18_500kb.RAWobserved\n",
      "(5328, 5328)\n",
      "../data/GM12878_combined/500kb_resolution_intrachromosomal/chr19/MAPQGE30/chr19_500kb.RAWobserved\n",
      "(5447, 5447)\n",
      "../data/GM12878_combined/500kb_resolution_intrachromosomal/chr20/MAPQGE30/chr20_500kb.RAWobserved\n",
      "(5573, 5573)\n",
      "../data/GM12878_combined/500kb_resolution_intrachromosomal/chr21/MAPQGE30/chr21_500kb.RAWobserved\n",
      "(5670, 5670)\n",
      "../data/GM12878_combined/500kb_resolution_intrachromosomal/chr22/MAPQGE30/chr22_500kb.RAWobserved\n",
      "(5773, 5773)\n",
      "../data/GM12878_combined/500kb_resolution_intrachromosomal/chrX/MAPQGE30/chrX_500kb.RAWobserved\n",
      "(6084, 6084)\n",
      "[[   0    0]\n",
      " [   0  499]\n",
      " [ 499  487]\n",
      " [ 986  396]\n",
      " [1382  383]\n",
      " [1765  362]\n",
      " [2127  343]\n",
      " [2470  319]\n",
      " [2789  293]\n",
      " [3082  283]\n",
      " [3365  272]\n",
      " [3637  270]\n",
      " [3907  268]\n",
      " [4175  231]\n",
      " [4406  215]\n",
      " [4621  206]\n",
      " [4827  181]\n",
      " [5008  163]\n",
      " [5171  157]\n",
      " [5328  119]\n",
      " [5447  126]\n",
      " [5573   97]\n",
      " [5670  103]\n",
      " [5773  311]]\n"
     ]
    }
   ],
   "source": [
    "N = 0\n",
    "M = 0\n",
    "nss_high = np.zeros((24, 2), dtype='uint32')\n",
    "for chr1 in range(1, 24):\n",
    "    if chr1 == 23:\n",
    "        chr1_char = 'X'\n",
    "    else:\n",
    "        chr1_char = \"%d\"%chr1\n",
    "    dir_name = \"%s/GM12878_combined/500kb_resolution_intrachromosomal/chr%s/MAPQGE30/chr%s_500kb.RAWobserved\"%(root, chr1_char, chr1_char)\n",
    "    print(dir_name)\n",
    "    mit = readYamlIntensities(dir_name, 500000)\n",
    "    n, m = mit.shape\n",
    "    nss_high[chr1, 0] = N\n",
    "    nss_high[chr1, 1] = n\n",
    "    N += n\n",
    "    M += m\n",
    "        #print(chr1, n, m)\n",
    "    print(N, M)        \n",
    "print(nss_high)"
   ]
  },
  {
   "cell_type": "code",
   "execution_count": 9,
   "metadata": {},
   "outputs": [
    {
     "name": "stdout",
     "output_type": "stream",
     "text": [
      "[[   0    0]\n",
      " [   0  495]\n",
      " [ 495  486]\n",
      " [ 981  399]\n",
      " [1380  383]\n",
      " [1763  362]\n",
      " [2125  342]\n",
      " [2467  318]\n",
      " [2785  293]\n",
      " [3078  281]\n",
      " [3359  271]\n",
      " [3630  269]\n",
      " [3899  265]\n",
      " [4164  229]\n",
      " [4393  213]\n",
      " [4606  201]\n",
      " [4807  178]\n",
      " [4985  158]\n",
      " [5143  153]\n",
      " [5296  128]\n",
      " [5424  125]\n",
      " [5549   94]\n",
      " [5643  100]\n",
      " [5743  310]]\n",
      "[[   0    0]\n",
      " [   0  499]\n",
      " [ 499  487]\n",
      " [ 986  396]\n",
      " [1382  383]\n",
      " [1765  362]\n",
      " [2127  343]\n",
      " [2470  319]\n",
      " [2789  293]\n",
      " [3082  283]\n",
      " [3365  272]\n",
      " [3637  270]\n",
      " [3907  268]\n",
      " [4175  231]\n",
      " [4406  215]\n",
      " [4621  206]\n",
      " [4827  181]\n",
      " [5008  163]\n",
      " [5171  157]\n",
      " [5328  119]\n",
      " [5447  126]\n",
      " [5573   97]\n",
      " [5670  103]\n",
      " [5773  311]]\n"
     ]
    }
   ],
   "source": [
    "nss_low = np.load(\"../data/extracted_all_contact_MIT/lengths_500kb.npy\")\n",
    "print(nss_low)\n",
    "print(nss_high)"
   ]
  },
  {
   "cell_type": "code",
   "execution_count": null,
   "metadata": {
    "scrolled": true
   },
   "outputs": [
    {
     "name": "stdout",
     "output_type": "stream",
     "text": [
      "../data/GM12878_combined/500kb_resolution_intrachromosomal/chr1/MAPQGE30/chr1_500kb.RAWobserved\n",
      "../data/GM12878_combined_interchromosomal/500kb_resolution_interchromosomal/chr1_chr2/MAPQGE30/chr1_2_500kb.RAWobserved\n",
      "../data/GM12878_combined_interchromosomal/500kb_resolution_interchromosomal/chr1_chr3/MAPQGE30/chr1_3_500kb.RAWobserved\n",
      "../data/GM12878_combined_interchromosomal/500kb_resolution_interchromosomal/chr1_chr4/MAPQGE30/chr1_4_500kb.RAWobserved\n",
      "../data/GM12878_combined_interchromosomal/500kb_resolution_interchromosomal/chr1_chr5/MAPQGE30/chr1_5_500kb.RAWobserved\n",
      "../data/GM12878_combined_interchromosomal/500kb_resolution_interchromosomal/chr1_chr6/MAPQGE30/chr1_6_500kb.RAWobserved\n",
      "../data/GM12878_combined_interchromosomal/500kb_resolution_interchromosomal/chr1_chr7/MAPQGE30/chr1_7_500kb.RAWobserved\n",
      "../data/GM12878_combined_interchromosomal/500kb_resolution_interchromosomal/chr1_chr8/MAPQGE30/chr1_8_500kb.RAWobserved\n",
      "../data/GM12878_combined_interchromosomal/500kb_resolution_interchromosomal/chr1_chr9/MAPQGE30/chr1_9_500kb.RAWobserved\n",
      "../data/GM12878_combined_interchromosomal/500kb_resolution_interchromosomal/chr1_chr10/MAPQGE30/chr1_10_500kb.RAWobserved\n",
      "../data/GM12878_combined_interchromosomal/500kb_resolution_interchromosomal/chr1_chr11/MAPQGE30/chr1_11_500kb.RAWobserved\n",
      "../data/GM12878_combined_interchromosomal/500kb_resolution_interchromosomal/chr1_chr12/MAPQGE30/chr1_12_500kb.RAWobserved\n",
      "../data/GM12878_combined_interchromosomal/500kb_resolution_interchromosomal/chr1_chr13/MAPQGE30/chr1_13_500kb.RAWobserved\n",
      "../data/GM12878_combined_interchromosomal/500kb_resolution_interchromosomal/chr1_chr14/MAPQGE30/chr1_14_500kb.RAWobserved\n",
      "../data/GM12878_combined_interchromosomal/500kb_resolution_interchromosomal/chr1_chr15/MAPQGE30/chr1_15_500kb.RAWobserved\n",
      "../data/GM12878_combined_interchromosomal/500kb_resolution_interchromosomal/chr1_chr16/MAPQGE30/chr1_16_500kb.RAWobserved\n",
      "../data/GM12878_combined_interchromosomal/500kb_resolution_interchromosomal/chr1_chr17/MAPQGE30/chr1_17_500kb.RAWobserved\n",
      "../data/GM12878_combined_interchromosomal/500kb_resolution_interchromosomal/chr1_chr18/MAPQGE30/chr1_18_500kb.RAWobserved\n",
      "../data/GM12878_combined_interchromosomal/500kb_resolution_interchromosomal/chr1_chr19/MAPQGE30/chr1_19_500kb.RAWobserved\n",
      "../data/GM12878_combined_interchromosomal/500kb_resolution_interchromosomal/chr1_chr20/MAPQGE30/chr1_20_500kb.RAWobserved\n",
      "../data/GM12878_combined_interchromosomal/500kb_resolution_interchromosomal/chr1_chr21/MAPQGE30/chr1_21_500kb.RAWobserved\n",
      "../data/GM12878_combined_interchromosomal/500kb_resolution_interchromosomal/chr1_chr22/MAPQGE30/chr1_22_500kb.RAWobserved\n",
      "../data/GM12878_combined_interchromosomal/500kb_resolution_interchromosomal/chr1_chrX/MAPQGE30/chr1_X_500kb.RAWobserved\n",
      "../data/GM12878_combined/500kb_resolution_intrachromosomal/chr2/MAPQGE30/chr2_500kb.RAWobserved\n",
      "../data/GM12878_combined_interchromosomal/500kb_resolution_interchromosomal/chr2_chr3/MAPQGE30/chr2_3_500kb.RAWobserved\n",
      "../data/GM12878_combined_interchromosomal/500kb_resolution_interchromosomal/chr2_chr4/MAPQGE30/chr2_4_500kb.RAWobserved\n",
      "../data/GM12878_combined_interchromosomal/500kb_resolution_interchromosomal/chr2_chr5/MAPQGE30/chr2_5_500kb.RAWobserved\n",
      "../data/GM12878_combined_interchromosomal/500kb_resolution_interchromosomal/chr2_chr6/MAPQGE30/chr2_6_500kb.RAWobserved\n",
      "../data/GM12878_combined_interchromosomal/500kb_resolution_interchromosomal/chr2_chr7/MAPQGE30/chr2_7_500kb.RAWobserved\n",
      "../data/GM12878_combined_interchromosomal/500kb_resolution_interchromosomal/chr2_chr8/MAPQGE30/chr2_8_500kb.RAWobserved\n",
      "../data/GM12878_combined_interchromosomal/500kb_resolution_interchromosomal/chr2_chr9/MAPQGE30/chr2_9_500kb.RAWobserved\n",
      "../data/GM12878_combined_interchromosomal/500kb_resolution_interchromosomal/chr2_chr10/MAPQGE30/chr2_10_500kb.RAWobserved\n",
      "../data/GM12878_combined_interchromosomal/500kb_resolution_interchromosomal/chr2_chr11/MAPQGE30/chr2_11_500kb.RAWobserved\n",
      "../data/GM12878_combined_interchromosomal/500kb_resolution_interchromosomal/chr2_chr12/MAPQGE30/chr2_12_500kb.RAWobserved\n",
      "../data/GM12878_combined_interchromosomal/500kb_resolution_interchromosomal/chr2_chr13/MAPQGE30/chr2_13_500kb.RAWobserved\n",
      "../data/GM12878_combined_interchromosomal/500kb_resolution_interchromosomal/chr2_chr14/MAPQGE30/chr2_14_500kb.RAWobserved\n",
      "../data/GM12878_combined_interchromosomal/500kb_resolution_interchromosomal/chr2_chr15/MAPQGE30/chr2_15_500kb.RAWobserved\n",
      "../data/GM12878_combined_interchromosomal/500kb_resolution_interchromosomal/chr2_chr16/MAPQGE30/chr2_16_500kb.RAWobserved\n",
      "../data/GM12878_combined_interchromosomal/500kb_resolution_interchromosomal/chr2_chr17/MAPQGE30/chr2_17_500kb.RAWobserved\n",
      "../data/GM12878_combined_interchromosomal/500kb_resolution_interchromosomal/chr2_chr18/MAPQGE30/chr2_18_500kb.RAWobserved\n",
      "../data/GM12878_combined_interchromosomal/500kb_resolution_interchromosomal/chr2_chr19/MAPQGE30/chr2_19_500kb.RAWobserved\n",
      "../data/GM12878_combined_interchromosomal/500kb_resolution_interchromosomal/chr2_chr20/MAPQGE30/chr2_20_500kb.RAWobserved\n",
      "../data/GM12878_combined_interchromosomal/500kb_resolution_interchromosomal/chr2_chr21/MAPQGE30/chr2_21_500kb.RAWobserved\n",
      "../data/GM12878_combined_interchromosomal/500kb_resolution_interchromosomal/chr2_chr22/MAPQGE30/chr2_22_500kb.RAWobserved\n",
      "../data/GM12878_combined_interchromosomal/500kb_resolution_interchromosomal/chr2_chrX/MAPQGE30/chr2_X_500kb.RAWobserved\n",
      "../data/GM12878_combined/500kb_resolution_intrachromosomal/chr3/MAPQGE30/chr3_500kb.RAWobserved\n",
      "../data/GM12878_combined_interchromosomal/500kb_resolution_interchromosomal/chr3_chr4/MAPQGE30/chr3_4_500kb.RAWobserved\n",
      "../data/GM12878_combined_interchromosomal/500kb_resolution_interchromosomal/chr3_chr5/MAPQGE30/chr3_5_500kb.RAWobserved\n",
      "../data/GM12878_combined_interchromosomal/500kb_resolution_interchromosomal/chr3_chr6/MAPQGE30/chr3_6_500kb.RAWobserved\n",
      "../data/GM12878_combined_interchromosomal/500kb_resolution_interchromosomal/chr3_chr7/MAPQGE30/chr3_7_500kb.RAWobserved\n",
      "../data/GM12878_combined_interchromosomal/500kb_resolution_interchromosomal/chr3_chr8/MAPQGE30/chr3_8_500kb.RAWobserved\n",
      "../data/GM12878_combined_interchromosomal/500kb_resolution_interchromosomal/chr3_chr9/MAPQGE30/chr3_9_500kb.RAWobserved\n",
      "../data/GM12878_combined_interchromosomal/500kb_resolution_interchromosomal/chr3_chr10/MAPQGE30/chr3_10_500kb.RAWobserved\n",
      "../data/GM12878_combined_interchromosomal/500kb_resolution_interchromosomal/chr3_chr11/MAPQGE30/chr3_11_500kb.RAWobserved\n",
      "../data/GM12878_combined_interchromosomal/500kb_resolution_interchromosomal/chr3_chr12/MAPQGE30/chr3_12_500kb.RAWobserved\n",
      "../data/GM12878_combined_interchromosomal/500kb_resolution_interchromosomal/chr3_chr13/MAPQGE30/chr3_13_500kb.RAWobserved\n",
      "../data/GM12878_combined_interchromosomal/500kb_resolution_interchromosomal/chr3_chr14/MAPQGE30/chr3_14_500kb.RAWobserved\n",
      "../data/GM12878_combined_interchromosomal/500kb_resolution_interchromosomal/chr3_chr15/MAPQGE30/chr3_15_500kb.RAWobserved\n",
      "../data/GM12878_combined_interchromosomal/500kb_resolution_interchromosomal/chr3_chr16/MAPQGE30/chr3_16_500kb.RAWobserved\n",
      "../data/GM12878_combined_interchromosomal/500kb_resolution_interchromosomal/chr3_chr17/MAPQGE30/chr3_17_500kb.RAWobserved\n",
      "../data/GM12878_combined_interchromosomal/500kb_resolution_interchromosomal/chr3_chr18/MAPQGE30/chr3_18_500kb.RAWobserved\n",
      "../data/GM12878_combined_interchromosomal/500kb_resolution_interchromosomal/chr3_chr19/MAPQGE30/chr3_19_500kb.RAWobserved\n",
      "../data/GM12878_combined_interchromosomal/500kb_resolution_interchromosomal/chr3_chr20/MAPQGE30/chr3_20_500kb.RAWobserved\n",
      "../data/GM12878_combined_interchromosomal/500kb_resolution_interchromosomal/chr3_chr21/MAPQGE30/chr3_21_500kb.RAWobserved\n",
      "../data/GM12878_combined_interchromosomal/500kb_resolution_interchromosomal/chr3_chr22/MAPQGE30/chr3_22_500kb.RAWobserved\n",
      "../data/GM12878_combined_interchromosomal/500kb_resolution_interchromosomal/chr3_chrX/MAPQGE30/chr3_X_500kb.RAWobserved\n",
      "../data/GM12878_combined/500kb_resolution_intrachromosomal/chr4/MAPQGE30/chr4_500kb.RAWobserved\n",
      "../data/GM12878_combined_interchromosomal/500kb_resolution_interchromosomal/chr4_chr5/MAPQGE30/chr4_5_500kb.RAWobserved\n",
      "../data/GM12878_combined_interchromosomal/500kb_resolution_interchromosomal/chr4_chr6/MAPQGE30/chr4_6_500kb.RAWobserved\n"
     ]
    },
    {
     "name": "stdout",
     "output_type": "stream",
     "text": [
      "../data/GM12878_combined_interchromosomal/500kb_resolution_interchromosomal/chr4_chr7/MAPQGE30/chr4_7_500kb.RAWobserved\n",
      "../data/GM12878_combined_interchromosomal/500kb_resolution_interchromosomal/chr4_chr8/MAPQGE30/chr4_8_500kb.RAWobserved\n",
      "../data/GM12878_combined_interchromosomal/500kb_resolution_interchromosomal/chr4_chr9/MAPQGE30/chr4_9_500kb.RAWobserved\n",
      "../data/GM12878_combined_interchromosomal/500kb_resolution_interchromosomal/chr4_chr10/MAPQGE30/chr4_10_500kb.RAWobserved\n",
      "../data/GM12878_combined_interchromosomal/500kb_resolution_interchromosomal/chr4_chr11/MAPQGE30/chr4_11_500kb.RAWobserved\n",
      "../data/GM12878_combined_interchromosomal/500kb_resolution_interchromosomal/chr4_chr12/MAPQGE30/chr4_12_500kb.RAWobserved\n",
      "../data/GM12878_combined_interchromosomal/500kb_resolution_interchromosomal/chr4_chr13/MAPQGE30/chr4_13_500kb.RAWobserved\n",
      "../data/GM12878_combined_interchromosomal/500kb_resolution_interchromosomal/chr4_chr14/MAPQGE30/chr4_14_500kb.RAWobserved\n",
      "../data/GM12878_combined_interchromosomal/500kb_resolution_interchromosomal/chr4_chr15/MAPQGE30/chr4_15_500kb.RAWobserved\n",
      "../data/GM12878_combined_interchromosomal/500kb_resolution_interchromosomal/chr4_chr16/MAPQGE30/chr4_16_500kb.RAWobserved\n",
      "../data/GM12878_combined_interchromosomal/500kb_resolution_interchromosomal/chr4_chr17/MAPQGE30/chr4_17_500kb.RAWobserved\n",
      "../data/GM12878_combined_interchromosomal/500kb_resolution_interchromosomal/chr4_chr18/MAPQGE30/chr4_18_500kb.RAWobserved\n",
      "../data/GM12878_combined_interchromosomal/500kb_resolution_interchromosomal/chr4_chr19/MAPQGE30/chr4_19_500kb.RAWobserved\n",
      "../data/GM12878_combined_interchromosomal/500kb_resolution_interchromosomal/chr4_chr20/MAPQGE30/chr4_20_500kb.RAWobserved\n",
      "../data/GM12878_combined_interchromosomal/500kb_resolution_interchromosomal/chr4_chr21/MAPQGE30/chr4_21_500kb.RAWobserved\n",
      "../data/GM12878_combined_interchromosomal/500kb_resolution_interchromosomal/chr4_chr22/MAPQGE30/chr4_22_500kb.RAWobserved\n",
      "../data/GM12878_combined_interchromosomal/500kb_resolution_interchromosomal/chr4_chrX/MAPQGE30/chr4_X_500kb.RAWobserved\n",
      "../data/GM12878_combined/500kb_resolution_intrachromosomal/chr5/MAPQGE30/chr5_500kb.RAWobserved\n",
      "../data/GM12878_combined_interchromosomal/500kb_resolution_interchromosomal/chr5_chr6/MAPQGE30/chr5_6_500kb.RAWobserved\n",
      "../data/GM12878_combined_interchromosomal/500kb_resolution_interchromosomal/chr5_chr7/MAPQGE30/chr5_7_500kb.RAWobserved\n",
      "../data/GM12878_combined_interchromosomal/500kb_resolution_interchromosomal/chr5_chr8/MAPQGE30/chr5_8_500kb.RAWobserved\n",
      "../data/GM12878_combined_interchromosomal/500kb_resolution_interchromosomal/chr5_chr9/MAPQGE30/chr5_9_500kb.RAWobserved\n",
      "../data/GM12878_combined_interchromosomal/500kb_resolution_interchromosomal/chr5_chr10/MAPQGE30/chr5_10_500kb.RAWobserved\n",
      "../data/GM12878_combined_interchromosomal/500kb_resolution_interchromosomal/chr5_chr11/MAPQGE30/chr5_11_500kb.RAWobserved\n",
      "../data/GM12878_combined_interchromosomal/500kb_resolution_interchromosomal/chr5_chr12/MAPQGE30/chr5_12_500kb.RAWobserved\n",
      "../data/GM12878_combined_interchromosomal/500kb_resolution_interchromosomal/chr5_chr13/MAPQGE30/chr5_13_500kb.RAWobserved\n",
      "../data/GM12878_combined_interchromosomal/500kb_resolution_interchromosomal/chr5_chr14/MAPQGE30/chr5_14_500kb.RAWobserved\n",
      "../data/GM12878_combined_interchromosomal/500kb_resolution_interchromosomal/chr5_chr15/MAPQGE30/chr5_15_500kb.RAWobserved\n",
      "../data/GM12878_combined_interchromosomal/500kb_resolution_interchromosomal/chr5_chr16/MAPQGE30/chr5_16_500kb.RAWobserved\n"
     ]
    }
   ],
   "source": [
    "mit_high = np.zeros((N, M))\n",
    "for chr1 in range(1, 24):\n",
    "    for chr2 in range(chr1, 24):\n",
    "        if chr2 == 23:\n",
    "            chr2_char = 'X'\n",
    "        else:\n",
    "            chr2_char = \"%d\"%chr2\n",
    "        if chr1 == 23:\n",
    "            chr1_char = 'X'\n",
    "        else:\n",
    "            chr1_char = \"%d\"%chr1           \n",
    "        dir_name = \"GM12878_combined\"\n",
    "        if chr1 == chr2:\n",
    "            dir_name = \"%s/GM12878_combined/500kb_resolution_intrachromosomal/chr%s/MAPQGE30/chr%s_500kb.RAWobserved\"%(root, chr1_char, chr1_char)\n",
    "        else:\n",
    "            dir_name = \"%s/GM12878_combined_interchromosomal/500kb_resolution_interchromosomal/chr%s_chr%s/MAPQGE30/chr%s_%s_500kb.RAWobserved\"%(root, chr1_char, chr2_char, chr1_char, chr2_char)\n",
    "        print(dir_name)\n",
    "        mit = readYamlIntensities(dir_name, 500000, symmetric=(chr1==chr2))           \n",
    "        beg_n = nss_high[chr1, 0]\n",
    "        n0 = nss_high[chr1, 1]\n",
    "        beg_m = nss_high[chr2, 0]\n",
    "        m0 = nss_high[chr2, 1]\n",
    "        n1, m1 = mit.shape\n",
    "        n = np.min([n0, n1])\n",
    "        m = np.min([m0, m1])\n",
    "        #print(chr1, chr2, beg_n, n, beg_m, m)\n",
    "        mit_high[beg_n:beg_n+n, beg_m:beg_m+m] = mit[:n,:m]\n",
    "        mit_high[beg_m:beg_m+m, beg_n:beg_n+n] = mit.T[:m,:n]"
   ]
  },
  {
   "cell_type": "code",
   "execution_count": null,
   "metadata": {},
   "outputs": [],
   "source": [
    "pylab.rcParams['figure.figsize'] = (5, 5)\n",
    "beg = 0\n",
    "end = 5700\n",
    "images = [mit_high[beg:end, beg:end], mit_low[beg:end, beg:end], all_low[beg:end, beg:end]]\n",
    "showImages(images, 1)"
   ]
  },
  {
   "cell_type": "code",
   "execution_count": null,
   "metadata": {},
   "outputs": [],
   "source": [
    "print(mit_low[500:510, 500])\n",
    "print(mit_high[500:510, 500])"
   ]
  },
  {
   "cell_type": "code",
   "execution_count": null,
   "metadata": {},
   "outputs": [],
   "source": [
    "\n",
    "def fromLowToHigh(i, l1, l2):\n",
    "    k1 = 1\n",
    "    while k1 < len(l1) and i > l1[k1, 0]:\n",
    "        k1 += 1\n",
    "    k1 -= 1\n",
    "    if k1 > 1:\n",
    "        remi = i % l1[k1, 0]\n",
    "    else:\n",
    "        remi = i\n",
    "    \n",
    "    if remi > l1[k1, 1]:\n",
    "        print -1\n",
    "    return l2[k1, 0] + remi\n",
    "\n",
    "def convertIndices(i, j):\n",
    "    return (fromLowToHigh(i, nss_low, nss_high), fromLowToHigh(j, nss_low, nss_high))\n",
    "def loadData(halfSize=11, root=\"data/\"):\n",
    "    nss_low = np.load(\"length_low_res.npy\")\n",
    "    nss_high = np.load(\"length_high_res.npy\")\n",
    "    mit_low = np.load(\"mit_low_res.npy\")\n",
    "    mit_high = np.load(\"mit_high_res.npy\")   \n",
    "    halfSize = 11\n",
    "    n_low = mit_low.shape[0]\n",
    "    n_high = mit_high.shape[0] \n",
    "    print(n_low, n_high)\n",
    "    XXX = []\n",
    "    YYY = []\n",
    "    for chr1 in range(1, 24):\n",
    "        for chr2 in range(chr1, 24):\n",
    "            n1 = nss_low[chr1, 1]\n",
    "            n2 = nss_high[chr1, 1]\n",
    "            n = np.min([n1, n2])\n",
    "            m1 = nss_low[chr2, 1]\n",
    "            m2 = nss_high[chr2, 1]\n",
    "            m = np.min([m1, m2])       \n",
    "            beg_x_low = nss_low[chr1, 0]\n",
    "            beg_y_low = nss_low[chr2, 0]\n",
    "            beg_x_high = nss_high[chr1, 0]\n",
    "            beg_y_high = nss_high[chr2, 0]       \n",
    "            for i in range(n):\n",
    "                for j in range(m):\n",
    "                    xLow = beg_x_low+i\n",
    "                    yLow = beg_y_low+j\n",
    "                    xHigh = beg_x_high+i\n",
    "                    yHigh = beg_y_high+j\n",
    "                    if xLow < yLow:\n",
    "                        continue\n",
    "                    #print(chr1, chr2, xLow, yLow, xHigh, yHigh)\n",
    "                    X = mit_low[xLow-halfSize:xLow+halfSize+1, yLow-halfSize:yLow+halfSize+1]\n",
    "                    Y = mit_high[xLow, yLow]\n",
    "                    if X.shape[0] != 2*halfSize+1 or X.shape[1] != 2*halfSize+1:\n",
    "                        continue\n",
    "                    XXX.append(X)\n",
    "                    YYY.append(Y)\n",
    "    return XXX, YYY"
   ]
  },
  {
   "cell_type": "code",
   "execution_count": 2,
   "metadata": {},
   "outputs": [
    {
     "name": "stdout",
     "output_type": "stream",
     "text": [
      "(6053, 6084)\n"
     ]
    }
   ],
   "source": [
    "X, Y = loadData()"
   ]
  },
  {
   "cell_type": "code",
   "execution_count": 5,
   "metadata": {},
   "outputs": [
    {
     "data": {
      "text/plain": [
       "3"
      ]
     },
     "execution_count": 5,
     "metadata": {},
     "output_type": "execute_result"
    }
   ],
   "source": []
  },
  {
   "cell_type": "code",
   "execution_count": 4,
   "metadata": {},
   "outputs": [
    {
     "data": {
      "text/plain": [
       "933118"
      ]
     },
     "execution_count": 4,
     "metadata": {},
     "output_type": "execute_result"
    }
   ],
   "source": []
  },
  {
   "cell_type": "code",
   "execution_count": null,
   "metadata": {},
   "outputs": [],
   "source": []
  },
  {
   "cell_type": "code",
   "execution_count": null,
   "metadata": {},
   "outputs": [],
   "source": []
  }
 ],
 "metadata": {
  "kernelspec": {
   "display_name": "Python 2",
   "language": "python",
   "name": "python2"
  },
  "language_info": {
   "codemirror_mode": {
    "name": "ipython",
    "version": 2
   },
   "file_extension": ".py",
   "mimetype": "text/x-python",
   "name": "python",
   "nbconvert_exporter": "python",
   "pygments_lexer": "ipython2",
   "version": "2.7.12"
  }
 },
 "nbformat": 4,
 "nbformat_minor": 2
}
