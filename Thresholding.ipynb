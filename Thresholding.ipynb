{
 "cells": [
  {
   "cell_type": "markdown",
   "metadata": {},
   "source": [
    "Importing some stuff"
   ]
  },
  {
   "cell_type": "code",
   "execution_count": 53,
   "metadata": {},
   "outputs": [
    {
     "name": "stdout",
     "output_type": "stream",
     "text": [
      "The autoreload extension is already loaded. To reload it, use:\n",
      "  %reload_ext autoreload\n"
     ]
    }
   ],
   "source": [
    "import numpy as np\n",
    "import cv2\n",
    "from utility import *\n",
    "import matplotlib.pyplot as plt\n",
    "from iced import normalization\n",
    "from iced import filter\n",
    "import os\n",
    "%load_ext autoreload\n",
    "%autoreload 2"
   ]
  },
  {
   "cell_type": "code",
   "execution_count": 2,
   "metadata": {},
   "outputs": [],
   "source": [
    "def log(image):\n",
    "    out = image * 1.\n",
    "    out[np.where(out <= 0)] = 1\n",
    "    return np.log(out)\n",
    "\n",
    "def pearsonII(image):\n",
    "    out = pearson(image)\n",
    "    out[np.where(out <= 0)] = 0\n",
    "    return out\n",
    "\n",
    "def rel_error(m1 ,m2):\n",
    "    diff = np.abs(m1 - m2)\n",
    "    return diff / (np.abs(np.minimum(m1+100, m2+100)))\n",
    "\n",
    "def print_statistics(m1, text = \"\", print_results=True):\n",
    "    max = np.max(m1)\n",
    "    min = np.min(m1)\n",
    "    mean = m1.mean()\n",
    "    median = np.percentile(m1, 50)\n",
    "    std = m1.std()\n",
    "    if (print_results):\n",
    "        print(\"#-----------------------------------------------------------------------#\")\n",
    "        print(\"Stats for %s: \"% text)\n",
    "        print(\"max: %f | min: %f | median: %f | mean: %f | std: %f\"%(max, min, median, mean, std))\n",
    "        print(\"#-----------------------------------------------------------------------#\")\n",
    "    return max, min, mean, std\n",
    "\n",
    "def t_test(m1, m2):\n",
    "    diff = m1 - m2\n",
    "    n = diff.shape[0] * diff.shape[1]\n",
    "    std = np.sqrt(np.sum(diff * diff) / (n - 1))\n",
    "    t0 = diff.mean() * np.sqrt(n) / std\n",
    "    return t0\n",
    "\n",
    "def threshold_within_std(m1, k):\n",
    "    min, max, mean, std = print_statistics(m1, print_results=False)\n",
    "    return (m1 > mean - k * std) * (m1 < mean + k * std)"
   ]
  },
  {
   "cell_type": "markdown",
   "metadata": {},
   "source": [
    "Initiating matrices"
   ]
  },
  {
   "cell_type": "code",
   "execution_count": 37,
   "metadata": {},
   "outputs": [
    {
     "name": "stdout",
     "output_type": "stream",
     "text": [
      "chromosome 1: 2, chromosome 2: 2\n",
      "file directory: ../data/extracted_all_contact_MIT/chr_02_02_500kb.mat\n",
      "file directory: ../data/extracted_all_contact_call4/chr_02_02_500kb.mat\n",
      "file directory: ../data/extracted_all_contact_RL/chr_02_02_500kb.mat\n"
     ]
    }
   ],
   "source": [
    "chr1 = 2\n",
    "chr2 = chr1\n",
    "print \"chromosome 1: %s, chromosome 2: %s\"%(chr1, chr2)\n",
    "#print observed_mit_original.shape\n",
    "\n",
    "mit = readMat(\"../data/extracted_all_contact_MIT/chr_%02d_%02d_500kb.mat\"%\\\n",
    "              (chr1, chr2), \"\\t\")\n",
    "call4 = readMat(\"../data/extracted_all_contact_call4/chr_%02d_%02d_500kb.mat\"%\\\n",
    "                (chr1, chr2), \"\\t\")\n",
    "rl = readMat(\"../data/extracted_all_contact_RL/chr_%02d_%02d_500kb.mat\"%(chr1, chr2), \"\\t\")"
   ]
  },
  {
   "cell_type": "code",
   "execution_count": 38,
   "metadata": {},
   "outputs": [
    {
     "name": "stdout",
     "output_type": "stream",
     "text": [
      "file directory: ../data/extracted_all_contact_ALL/chr_02_02_500kb.mat\n"
     ]
    }
   ],
   "source": [
    "all = readMat(\"../data/extracted_all_contact_ALL/chr_%02d_%02d_500kb.mat\"%(chr1, chr2), \"\\t\")"
   ]
  },
  {
   "cell_type": "code",
   "execution_count": 39,
   "metadata": {},
   "outputs": [],
   "source": [
    "n0, m0 = np.shape(mit)\n",
    "n1, m1 = np.shape(call4)\n",
    "n2, m2 = np.shape(rl)\n",
    "n3, m3 = np.shape(all)\n",
    "\n",
    "n = np.min([n0, m0, n1, m1, n2, m2, n3, m3])\n",
    "mit = mit[:n, :n]\n",
    "call4 = call4[:n, :n]\n",
    "rl = rl[:n, :n]\n",
    "all = all[:n, :n]"
   ]
  },
  {
   "cell_type": "code",
   "execution_count": 40,
   "metadata": {},
   "outputs": [
    {
     "name": "stdout",
     "output_type": "stream",
     "text": [
      "(480, 480)\n"
     ]
    }
   ],
   "source": [
    "mit = pearson(scn(normalize(mit)))\n",
    "call4 = pearson(scn(normalize(call4)))\n",
    "rl = pearson(scn(normalize(rl)))\n",
    "print call4.shape"
   ]
  },
  {
   "cell_type": "code",
   "execution_count": 41,
   "metadata": {},
   "outputs": [],
   "source": [
    "all = pearson(scn(normalize(rl)))"
   ]
  },
  {
   "cell_type": "code",
   "execution_count": 18,
   "metadata": {},
   "outputs": [
    {
     "name": "stdout",
     "output_type": "stream",
     "text": [
      "#-----------------------------------------------------------------------#\n",
      "Stats for mit: \n",
      "max: 1.000000 | min: -0.114191 | median: -0.012927 | mean: 0.000900 | std: 0.064145\n",
      "#-----------------------------------------------------------------------#\n",
      "#-----------------------------------------------------------------------#\n",
      "Stats for rl: \n",
      "max: 1.000000 | min: -0.038420 | median: -0.002424 | mean: 0.000214 | std: 0.046369\n",
      "#-----------------------------------------------------------------------#\n",
      "#-----------------------------------------------------------------------#\n",
      "Stats for call4: \n",
      "max: 1.000000 | min: -0.106534 | median: -0.001830 | mean: 0.000227 | std: 0.046263\n",
      "#-----------------------------------------------------------------------#\n",
      "#-----------------------------------------------------------------------#\n",
      "Stats for all: \n",
      "max: 1.000000 | min: -0.058035 | median: -0.003437 | mean: 0.000175 | std: 0.047455\n",
      "#-----------------------------------------------------------------------#\n"
     ]
    }
   ],
   "source": [
    "min, max, mean_mit, std_mit = print_statistics(mit, \"mit\")\n",
    "min, max, mean_rl, std_rl = print_statistics(rl, \"rl\")\n",
    "min, max, mean_call4, std_call4 = print_statistics(call4, \"call4\")\n",
    "min, max, mean_all, std_all = print_statistics(all, \"all\")"
   ]
  },
  {
   "cell_type": "code",
   "execution_count": 42,
   "metadata": {
    "scrolled": true
   },
   "outputs": [
    {
     "name": "stdout",
     "output_type": "stream",
     "text": [
      "Number of columnts: 4\n"
     ]
    },
    {
     "data": {
      "image/png": "[encoded data removed]",
      "text/plain": [
       "<matplotlib.figure.Figure at 0x7fa185038190>"
      ]
     },
     "metadata": {},
     "output_type": "display_data"
    }
   ],
   "source": [
    "images = [\n",
    "        (call4) > 0\n",
    "        , (mit) > 0\n",
    "        , (rl) > 0\n",
    "        , (all) > 0\n",
    "        ]\n",
    "showImages(images, 1)"
   ]
  },
  {
   "cell_type": "code",
   "execution_count": 43,
   "metadata": {},
   "outputs": [],
   "source": [
    "convertBinaryMatToOrcaReadable(call4 > 0, \"data/chr%02d_chr%02d_call4.edges\"%(chr1, chr1))\n",
    "convertBinaryMatToOrcaReadable(mit > 0, \"data/chr%02d_chr%02d_mit.edges\"%(chr1, chr1))\n",
    "convertBinaryMatToOrcaReadable(rl > 0, \"data/chr%02d_chr%02d_rl.edges\"%(chr1, chr1))\n",
    "convertBinaryMatToOrcaReadable(all > 0, \"data/chr%02d_chr%02d_all.edges\"%(chr1, chr1))"
   ]
  },
  {
   "cell_type": "code",
   "execution_count": 54,
   "metadata": {},
   "outputs": [
    {
     "data": {
      "text/plain": [
       "0"
      ]
     },
     "execution_count": 54,
     "metadata": {},
     "output_type": "execute_result"
    }
   ],
   "source": [
    "os.system('Rscript rscript.r')"
   ]
  },
  {
   "cell_type": "code",
   "execution_count": 57,
   "metadata": {},
   "outputs": [
    {
     "name": "stdout",
     "output_type": "stream",
     "text": [
      "file directory: data/chr02_chr02_mit.graphlets\n",
      "file directory: data/chr02_chr02_all.graphlets\n",
      "file directory: data/chr02_chr02_rl.graphlets\n",
      "file directory: data/chr02_chr02_call4.graphlets\n",
      "(480, 15)\n",
      "(480, 15)\n",
      "(480, 15)\n",
      "(480, 15)\n"
     ]
    }
   ],
   "source": [
    "graphlets_mit = readMat(\"data/chr%02d_chr%02d_mit.graphlets\"%(chr1, chr1), delimiter=\" \").astype('uint32')\n",
    "graphlets_all = readMat(\"data/chr%02d_chr%02d_all.graphlets\"%(chr1, chr1), delimiter=\" \").astype('uint32')\n",
    "graphlets_rl = readMat(\"data/chr%02d_chr%02d_rl.graphlets\"%(chr1, chr1), delimiter=\" \").astype('uint32')\n",
    "graphlets_call4 = readMat(\"data/chr%02d_chr%02d_call4.graphlets\"%(chr1, chr1), delimiter=\" \").astype('uint32')\n",
    "print(graphlets_mit.shape)\n",
    "print(graphlets_all.shape)\n",
    "print(graphlets_rl.shape)\n",
    "print(graphlets_call4.shape)"
   ]
  },
  {
   "cell_type": "code",
   "execution_count": null,
   "metadata": {},
   "outputs": [],
   "source": [
    "    "
   ]
  }
 ],
 "metadata": {
  "kernelspec": {
   "display_name": "Python 2",
   "language": "python",
   "name": "python2"
  },
  "language_info": {
   "codemirror_mode": {
    "name": "ipython",
    "version": 2
   },
   "file_extension": ".py",
   "mimetype": "text/x-python",
   "name": "python",
   "nbconvert_exporter": "python",
   "pygments_lexer": "ipython2",
   "version": "2.7.12"
  }
 },
 "nbformat": 4,
 "nbformat_minor": 2
}
