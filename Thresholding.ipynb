{
 "cells": [
  {
   "cell_type": "markdown",
   "metadata": {},
   "source": [
    "Importing some stuff"
   ]
  },
  {
   "cell_type": "code",
   "execution_count": 1,
   "metadata": {},
   "outputs": [],
   "source": [
    "import numpy as np\n",
    "import cv2\n",
    "from utility import *\n",
    "import matplotlib.pyplot as plt\n",
    "from iced import normalization\n",
    "from iced import filter\n",
    "import os\n",
    "%load_ext autoreload\n",
    "%autoreload 2"
   ]
  },
  {
   "cell_type": "code",
   "execution_count": 2,
   "metadata": {},
   "outputs": [],
   "source": [
    "def log(image):\n",
    "    out = image * 1.\n",
    "    out[np.where(out <= 0)] = 1\n",
    "    return np.log(out)\n",
    "\n",
    "def pearsonII(image):\n",
    "    out = pearson(image)\n",
    "    out[np.where(out <= 0)] = 0\n",
    "    return out\n",
    "\n",
    "def rel_error(m1 ,m2):\n",
    "    diff = np.abs(m1 - m2)\n",
    "    return diff / (np.abs(np.minimum(m1+100, m2+100)))\n",
    "\n",
    "def print_statistics(m1, text = \"\", print_results=True):\n",
    "    max = np.max(m1)\n",
    "    min = np.min(m1)\n",
    "    mean = m1.mean()\n",
    "    median = np.percentile(m1, 50)\n",
    "    std = m1.std()\n",
    "    if (print_results):\n",
    "        print(\"#-----------------------------------------------------------------------#\")\n",
    "        print(\"Stats for %s: \"% text)\n",
    "        print(\"max: %f | min: %f | median: %f | mean: %f | std: %f\"%(max, min, median, mean, std))\n",
    "        print(\"#-----------------------------------------------------------------------#\")\n",
    "    return max, min, mean, std\n",
    "\n",
    "def t_test(m1, m2):\n",
    "    diff = m1 - m2\n",
    "    n = diff.shape[0] * diff.shape[1]\n",
    "    std = np.sqrt(np.sum(diff * diff) / (n - 1))\n",
    "    t0 = diff.mean() * np.sqrt(n) / std\n",
    "    return t0\n",
    "\n",
    "def threshold_within_std(m1, k):\n",
    "    min, max, mean, std = print_statistics(m1, print_results=False)\n",
    "    return (m1 > mean - k * std) * (m1 < mean + k * std)"
   ]
  },
  {
   "cell_type": "markdown",
   "metadata": {},
   "source": [
    "Initiating matrices"
   ]
  },
  {
   "cell_type": "code",
   "execution_count": 129,
   "metadata": {},
   "outputs": [
    {
     "name": "stdout",
     "output_type": "stream",
     "text": [
      "chromosome 1: 3, chromosome 2: 3\n",
      "file directory: ../data/extracted_all_contact_MIT/chr_03_03_500kb.mat\n",
      "file directory: ../data/extracted_all_contact_call4/chr_03_03_500kb.mat\n",
      "file directory: ../data/extracted_all_contact_RL/chr_03_03_500kb.mat\n"
     ]
    }
   ],
   "source": [
    "chr1 = 3\n",
    "chr2 = chr1\n",
    "print \"chromosome 1: %s, chromosome 2: %s\"%(chr1, chr2)\n",
    "#print observed_mit_original.shape\n",
    "\n",
    "mit = readMat(\"../data/extracted_all_contact_MIT/chr_%02d_%02d_500kb.mat\"%\\\n",
    "              (chr1, chr2), \"\\t\")\n",
    "call4 = readMat(\"../data/extracted_all_contact_call4/chr_%02d_%02d_500kb.mat\"%\\\n",
    "                (chr1, chr2), \"\\t\")\n",
    "rl = readMat(\"../data/extracted_all_contact_RL/chr_%02d_%02d_500kb.mat\"%(chr1, chr2), \"\\t\")"
   ]
  },
  {
   "cell_type": "code",
   "execution_count": 130,
   "metadata": {},
   "outputs": [
    {
     "name": "stdout",
     "output_type": "stream",
     "text": [
      "file directory: ../data/extracted_all_contact_ALL/chr_03_03_500kb.mat\n"
     ]
    }
   ],
   "source": [
    "all = readMat(\"../data/extracted_all_contact_ALL/chr_%02d_%02d_500kb.mat\"%(chr1, chr2), \"\\t\")"
   ]
  },
  {
   "cell_type": "code",
   "execution_count": 131,
   "metadata": {},
   "outputs": [],
   "source": [
    "n0, m0 = np.shape(mit)\n",
    "n1, m1 = np.shape(call4)\n",
    "n2, m2 = np.shape(rl)\n",
    "n3, m3 = np.shape(all)\n",
    "\n",
    "n = np.min([n0, m0, n1, m1, n2, m2, n3, m3])\n",
    "mit = mit[:n, :n]\n",
    "call4 = call4[:n, :n]\n",
    "rl = rl[:n, :n]\n",
    "all = all[:n, :n]"
   ]
  },
  {
   "cell_type": "code",
   "execution_count": 132,
   "metadata": {},
   "outputs": [
    {
     "name": "stdout",
     "output_type": "stream",
     "text": [
      "(391, 391)\n"
     ]
    }
   ],
   "source": [
    "mit = pearson(scn(normalize(mit)))\n",
    "call4 = pearson(scn(normalize(call4)))\n",
    "rl = pearson(scn(normalize(rl)))\n",
    "print call4.shape"
   ]
  },
  {
   "cell_type": "code",
   "execution_count": 133,
   "metadata": {},
   "outputs": [],
   "source": [
    "all = pearson(scn(normalize(rl)))"
   ]
  },
  {
   "cell_type": "code",
   "execution_count": 134,
   "metadata": {},
   "outputs": [
    {
     "name": "stdout",
     "output_type": "stream",
     "text": [
      "#-----------------------------------------------------------------------#\n",
      "Stats for mit: \n",
      "max: 1.000000 | min: -0.057665 | median: -0.007164 | mean: 0.000825 | std: 0.054108\n",
      "#-----------------------------------------------------------------------#\n",
      "#-----------------------------------------------------------------------#\n",
      "Stats for rl: \n",
      "max: 1.000000 | min: -0.053589 | median: -0.002150 | mean: 0.000433 | std: 0.050681\n",
      "#-----------------------------------------------------------------------#\n",
      "#-----------------------------------------------------------------------#\n",
      "Stats for call4: \n",
      "max: 1.000000 | min: -0.032048 | median: -0.002314 | mean: 0.000182 | std: 0.050644\n",
      "#-----------------------------------------------------------------------#\n",
      "#-----------------------------------------------------------------------#\n",
      "Stats for all: \n",
      "max: 1.000000 | min: -0.081476 | median: -0.002772 | mean: 0.000354 | std: 0.050826\n",
      "#-----------------------------------------------------------------------#\n"
     ]
    }
   ],
   "source": [
    "min, max, mean_mit, std_mit = print_statistics(mit, \"mit\")\n",
    "min, max, mean_rl, std_rl = print_statistics(rl, \"rl\")\n",
    "min, max, mean_call4, std_call4 = print_statistics(call4, \"call4\")\n",
    "min, max, mean_all, std_all = print_statistics(all, \"all\")"
   ]
  },
  {
   "cell_type": "code",
   "execution_count": 135,
   "metadata": {
    "scrolled": true
   },
   "outputs": [
    {
     "name": "stdout",
     "output_type": "stream",
     "text": [
      "Number of columnts: 4\n"
     ]
    },
    {
     "data": {
      "image/png": "[encoded data removed]",
      "text/plain": [
       "<matplotlib.figure.Figure at 0x7ff942634390>"
      ]
     },
     "metadata": {},
     "output_type": "display_data"
    }
   ],
   "source": [
    "images = [\n",
    "        (call4) > 0\n",
    "        , (mit) > 0\n",
    "        , (rl) > 0\n",
    "        , (all) > 0\n",
    "        ]\n",
    "showImages(images, 1)"
   ]
  },
  {
   "cell_type": "code",
   "execution_count": 136,
   "metadata": {},
   "outputs": [
    {
     "name": "stdout",
     "output_type": "stream",
     "text": [
      "Number of columnts: 4\n"
     ]
    },
    {
     "data": {
      "image/png": "[encoded data removed]",
      "text/plain": [
       "<matplotlib.figure.Figure at 0x7ff9460c0190>"
      ]
     },
     "metadata": {},
     "output_type": "display_data"
    }
   ],
   "source": [
    "images = [\n",
    "        np.log(call4+1)\n",
    "        , np.log(mit+1)\n",
    "        , np.log(rl+1)\n",
    "        , np.log(all+1)\n",
    "        ]\n",
    "showImages(images, 1)"
   ]
  },
  {
   "cell_type": "code",
   "execution_count": 137,
   "metadata": {},
   "outputs": [],
   "source": [
    "convertBinaryMatToOrcaReadable(call4 > 0, \"data/chr%02d_chr%02d_call4.edges\"%(chr1, chr1))\n",
    "convertBinaryMatToOrcaReadable(mit > 0, \"data/chr%02d_chr%02d_mit.edges\"%(chr1, chr1))\n",
    "convertBinaryMatToOrcaReadable(rl > 0, \"data/chr%02d_chr%02d_rl.edges\"%(chr1, chr1))\n",
    "convertBinaryMatToOrcaReadable(all > 0, \"data/chr%02d_chr%02d_all.edges\"%(chr1, chr1))"
   ]
  },
  {
   "cell_type": "code",
   "execution_count": 143,
   "metadata": {},
   "outputs": [
    {
     "data": {
      "text/plain": [
       "0"
      ]
     },
     "execution_count": 143,
     "metadata": {},
     "output_type": "execute_result"
    }
   ],
   "source": [
    "os.system('Rscript rscript.r %s'%chr1)"
   ]
  },
  {
   "cell_type": "code",
   "execution_count": 144,
   "metadata": {
    "scrolled": true
   },
   "outputs": [
    {
     "name": "stdout",
     "output_type": "stream",
     "text": [
      "file directory: data/chr03_chr03_mit.graphlets\n",
      "file directory: data/chr03_chr03_all.graphlets\n",
      "file directory: data/chr03_chr03_rl.graphlets\n",
      "file directory: data/chr03_chr03_call4.graphlets\n",
      "(391, 73)\n",
      "(391, 73)\n",
      "(391, 73)\n",
      "(391, 73)\n"
     ]
    }
   ],
   "source": [
    "graphlets_mit = readMat(\"data/chr%02d_chr%02d_mit.graphlets\"%(chr1, chr1), delimiter=\" \").astype('uint32')\n",
    "graphlets_all = readMat(\"data/chr%02d_chr%02d_all.graphlets\"%(chr1, chr1), delimiter=\" \").astype('uint32')\n",
    "graphlets_rl = readMat(\"data/chr%02d_chr%02d_rl.graphlets\"%(chr1, chr1), delimiter=\" \").astype('uint32')\n",
    "graphlets_call4 = readMat(\"data/chr%02d_chr%02d_call4.graphlets\"%(chr1, chr1), delimiter=\" \").astype('uint32')\n",
    "print(graphlets_mit.shape)\n",
    "print(graphlets_all.shape)\n",
    "print(graphlets_rl.shape)\n",
    "print(graphlets_call4.shape)"
   ]
  },
  {
   "cell_type": "code",
   "execution_count": 145,
   "metadata": {},
   "outputs": [],
   "source": [
    "mit_all_corr = \\\n",
    "    graphlet_correlational_distance(graphlets_mit, graphlets_all)"
   ]
  },
  {
   "cell_type": "code",
   "execution_count": 146,
   "metadata": {},
   "outputs": [],
   "source": [
    "mit_mit_corr = \\\n",
    "    graphlet_correlational_distance(graphlets_mit, graphlets_mit)"
   ]
  },
  {
   "cell_type": "code",
   "execution_count": 147,
   "metadata": {},
   "outputs": [],
   "source": [
    "mit_call4_corr = \\\n",
    "    graphlet_correlational_distance(graphlets_mit, graphlets_call4)"
   ]
  },
  {
   "cell_type": "code",
   "execution_count": 148,
   "metadata": {},
   "outputs": [],
   "source": [
    "mit_rl_corr = \\\n",
    "    graphlet_correlational_distance(graphlets_mit, graphlets_rl)\n"
   ]
  },
  {
   "cell_type": "code",
   "execution_count": 149,
   "metadata": {},
   "outputs": [
    {
     "name": "stdout",
     "output_type": "stream",
     "text": [
      "Number of columnts: 2\n"
     ]
    },
    {
     "data": {
      "image/png": "[encoded data removed]",
      "text/plain": [
       "<matplotlib.figure.Figure at 0x7ff94603e810>"
      ]
     },
     "metadata": {},
     "output_type": "display_data"
    }
   ],
   "source": [
    "images = [ mit_mit_corr\n",
    "          , mit_all_corr\n",
    "         , mit_rl_corr\n",
    "         , mit_call4_corr]\n",
    "showImages(images, 2)"
   ]
  },
  {
   "cell_type": "code",
   "execution_count": 150,
   "metadata": {
    "scrolled": false
   },
   "outputs": [
    {
     "name": "stdout",
     "output_type": "stream",
     "text": [
      "#-----------------------------------------------------------------------#\n",
      "Stats for : \n",
      "max: 1.464597 | min: 0.000000 | median: 0.141609 | mean: 0.183276 | std: 0.153546\n",
      "#-----------------------------------------------------------------------#\n",
      "#-----------------------------------------------------------------------#\n",
      "Stats for : \n",
      "max: 2.207065 | min: 0.658505 | median: 1.365477 | mean: 1.373682 | std: 0.179704\n",
      "#-----------------------------------------------------------------------#\n",
      "#-----------------------------------------------------------------------#\n",
      "Stats for : \n",
      "max: 4.118116 | min: 1.068633 | median: 2.239338 | mean: 2.288463 | std: 0.298913\n",
      "#-----------------------------------------------------------------------#\n",
      "#-----------------------------------------------------------------------#\n",
      "Stats for : \n",
      "max: 4.469617 | min: 3.400858 | median: 4.081259 | mean: 4.075095 | std: 0.148007\n",
      "#-----------------------------------------------------------------------#\n"
     ]
    },
    {
     "data": {
      "text/plain": [
       "(4.469616723064088, 3.4008584941455666, 4.07509450538009, 0.14800683174023457)"
      ]
     },
     "execution_count": 150,
     "metadata": {},
     "output_type": "execute_result"
    }
   ],
   "source": [
    "print_statistics(mit_mit_corr)\n",
    "print_statistics(mit_all_corr)\n",
    "print_statistics(mit_rl_corr)\n",
    "print_statistics(mit_call4_corr)"
   ]
  },
  {
   "cell_type": "code",
   "execution_count": 151,
   "metadata": {},
   "outputs": [
    {
     "name": "stdout",
     "output_type": "stream",
     "text": [
      "#-----------------------------------------------------------------------#\n",
      "Stats for : \n",
      "max: 0.000000 | min: 0.000000 | median: 0.000000 | mean: 0.000000 | std: 0.000000\n",
      "#-----------------------------------------------------------------------#\n",
      "#-----------------------------------------------------------------------#\n",
      "Stats for : \n",
      "max: 2.161133 | min: 0.719218 | median: 1.363225 | mean: 1.374714 | std: 0.174143\n",
      "#-----------------------------------------------------------------------#\n",
      "#-----------------------------------------------------------------------#\n",
      "Stats for : \n",
      "max: 4.117633 | min: 1.410812 | median: 2.243016 | mean: 2.286506 | std: 0.312053\n",
      "#-----------------------------------------------------------------------#\n",
      "#-----------------------------------------------------------------------#\n",
      "Stats for : \n",
      "max: 4.469550 | min: 3.662796 | median: 4.077379 | mean: 4.075067 | std: 0.147716\n",
      "#-----------------------------------------------------------------------#\n"
     ]
    },
    {
     "data": {
      "text/plain": [
       "(4.469550226150505, 3.6627957656735335, 4.075067173766815, 0.14771571662588764)"
      ]
     },
     "execution_count": 151,
     "metadata": {},
     "output_type": "execute_result"
    }
   ],
   "source": [
    "print_statistics(np.diagonal(mit_mit_corr))\n",
    "print_statistics(np.diagonal(mit_all_corr))\n",
    "print_statistics(np.diagonal(mit_rl_corr))\n",
    "print_statistics(np.diagonal(mit_call4_corr))"
   ]
  },
  {
   "cell_type": "code",
   "execution_count": 152,
   "metadata": {},
   "outputs": [
    {
     "name": "stdout",
     "output_type": "stream",
     "text": [
      "shape of graphlet for chromosome 3 of cell rl:                 391 by 73\n",
      "shape of graphlet for chromosome 3 of cell call4:                 391 by 73\n",
      "shape of graphlet for chromosome 3 of cell all:                 391 by 73\n",
      "shape of graphlet for chromosome 3 of cell mit:                 391 by 73\n",
      "('number of matrices:', 4)\n",
      "data/chr03_orbit00.paired.csv\n",
      "data/chr03_orbit01.paired.csv\n",
      "data/chr03_orbit02.paired.csv\n",
      "data/chr03_orbit03.paired.csv\n",
      "data/chr03_orbit04.paired.csv\n",
      "data/chr03_orbit05.paired.csv\n",
      "data/chr03_orbit06.paired.csv\n",
      "data/chr03_orbit07.paired.csv\n",
      "data/chr03_orbit08.paired.csv\n",
      "data/chr03_orbit09.paired.csv\n",
      "data/chr03_orbit10.paired.csv\n",
      "data/chr03_orbit11.paired.csv\n",
      "data/chr03_orbit12.paired.csv\n",
      "data/chr03_orbit13.paired.csv\n",
      "data/chr03_orbit14.paired.csv\n",
      "data/chr03_orbit15.paired.csv\n",
      "data/chr03_orbit16.paired.csv\n",
      "data/chr03_orbit17.paired.csv\n",
      "data/chr03_orbit18.paired.csv\n",
      "data/chr03_orbit19.paired.csv\n",
      "data/chr03_orbit20.paired.csv\n",
      "data/chr03_orbit21.paired.csv\n",
      "data/chr03_orbit22.paired.csv\n",
      "data/chr03_orbit23.paired.csv\n",
      "data/chr03_orbit24.paired.csv\n",
      "data/chr03_orbit25.paired.csv\n",
      "data/chr03_orbit26.paired.csv\n",
      "data/chr03_orbit27.paired.csv\n",
      "data/chr03_orbit28.paired.csv\n",
      "data/chr03_orbit29.paired.csv\n",
      "data/chr03_orbit30.paired.csv\n",
      "data/chr03_orbit31.paired.csv\n",
      "data/chr03_orbit32.paired.csv\n",
      "data/chr03_orbit33.paired.csv\n",
      "data/chr03_orbit34.paired.csv\n",
      "data/chr03_orbit35.paired.csv\n",
      "data/chr03_orbit36.paired.csv\n",
      "data/chr03_orbit37.paired.csv\n",
      "data/chr03_orbit38.paired.csv\n",
      "data/chr03_orbit39.paired.csv\n",
      "data/chr03_orbit40.paired.csv\n",
      "data/chr03_orbit41.paired.csv\n",
      "data/chr03_orbit42.paired.csv\n",
      "data/chr03_orbit43.paired.csv\n",
      "data/chr03_orbit44.paired.csv\n",
      "data/chr03_orbit45.paired.csv\n",
      "data/chr03_orbit46.paired.csv\n",
      "data/chr03_orbit47.paired.csv\n",
      "data/chr03_orbit48.paired.csv\n",
      "data/chr03_orbit49.paired.csv\n",
      "data/chr03_orbit50.paired.csv\n",
      "data/chr03_orbit51.paired.csv\n",
      "data/chr03_orbit52.paired.csv\n",
      "data/chr03_orbit53.paired.csv\n",
      "data/chr03_orbit54.paired.csv\n",
      "data/chr03_orbit55.paired.csv\n",
      "data/chr03_orbit56.paired.csv\n",
      "data/chr03_orbit57.paired.csv\n",
      "data/chr03_orbit58.paired.csv\n",
      "data/chr03_orbit59.paired.csv\n",
      "data/chr03_orbit60.paired.csv\n",
      "data/chr03_orbit61.paired.csv\n",
      "data/chr03_orbit62.paired.csv\n",
      "data/chr03_orbit63.paired.csv\n",
      "data/chr03_orbit64.paired.csv\n",
      "data/chr03_orbit65.paired.csv\n",
      "data/chr03_orbit66.paired.csv\n",
      "data/chr03_orbit67.paired.csv\n",
      "data/chr03_orbit68.paired.csv\n",
      "data/chr03_orbit69.paired.csv\n",
      "data/chr03_orbit70.paired.csv\n",
      "data/chr03_orbit71.paired.csv\n",
      "data/chr03_orbit72.paired.csv\n"
     ]
    }
   ],
   "source": [
    "graphlets = {'mit' : graphlets_mit\n",
    "            , 'all' : graphlets_all\n",
    "            , 'rl' : graphlets_rl\n",
    "            , 'call4' : graphlets_call4}\n",
    "pair_orbits(graphlets, chr1)"
   ]
  },
  {
   "cell_type": "code",
   "execution_count": 153,
   "metadata": {},
   "outputs": [],
   "source": [
    "for orbit in range(73):\n",
    "    file_name = \"data/chr%02d_orbit%02d.paired.csv\"%(chr1, orbit)\n",
    "    command = \"java -jar mine.jar %s -allPairs\"%file_name\n",
    "    os.system(command)"
   ]
  },
  {
   "cell_type": "code",
   "execution_count": 154,
   "metadata": {},
   "outputs": [
    {
     "name": "stdout",
     "output_type": "stream",
     "text": [
      "data/chr03_orbit00.paired.csv,allpairs,cv=0.0,B=n^0.6,Results.csv\n",
      "data/chr03_orbit01.paired.csv,allpairs,cv=0.0,B=n^0.6,Results.csv\n",
      "data/chr03_orbit02.paired.csv,allpairs,cv=0.0,B=n^0.6,Results.csv\n",
      "data/chr03_orbit03.paired.csv,allpairs,cv=0.0,B=n^0.6,Results.csv\n",
      "data/chr03_orbit04.paired.csv,allpairs,cv=0.0,B=n^0.6,Results.csv\n",
      "data/chr03_orbit05.paired.csv,allpairs,cv=0.0,B=n^0.6,Results.csv\n",
      "data/chr03_orbit06.paired.csv,allpairs,cv=0.0,B=n^0.6,Results.csv\n",
      "data/chr03_orbit07.paired.csv,allpairs,cv=0.0,B=n^0.6,Results.csv\n",
      "data/chr03_orbit08.paired.csv,allpairs,cv=0.0,B=n^0.6,Results.csv\n",
      "data/chr03_orbit09.paired.csv,allpairs,cv=0.0,B=n^0.6,Results.csv\n",
      "data/chr03_orbit10.paired.csv,allpairs,cv=0.0,B=n^0.6,Results.csv\n",
      "data/chr03_orbit11.paired.csv,allpairs,cv=0.0,B=n^0.6,Results.csv\n",
      "data/chr03_orbit12.paired.csv,allpairs,cv=0.0,B=n^0.6,Results.csv\n",
      "data/chr03_orbit13.paired.csv,allpairs,cv=0.0,B=n^0.6,Results.csv\n",
      "data/chr03_orbit14.paired.csv,allpairs,cv=0.0,B=n^0.6,Results.csv\n",
      "data/chr03_orbit15.paired.csv,allpairs,cv=0.0,B=n^0.6,Results.csv\n",
      "data/chr03_orbit16.paired.csv,allpairs,cv=0.0,B=n^0.6,Results.csv\n",
      "data/chr03_orbit17.paired.csv,allpairs,cv=0.0,B=n^0.6,Results.csv\n",
      "data/chr03_orbit18.paired.csv,allpairs,cv=0.0,B=n^0.6,Results.csv\n",
      "data/chr03_orbit19.paired.csv,allpairs,cv=0.0,B=n^0.6,Results.csv\n",
      "data/chr03_orbit20.paired.csv,allpairs,cv=0.0,B=n^0.6,Results.csv\n",
      "data/chr03_orbit21.paired.csv,allpairs,cv=0.0,B=n^0.6,Results.csv\n",
      "data/chr03_orbit22.paired.csv,allpairs,cv=0.0,B=n^0.6,Results.csv\n",
      "data/chr03_orbit23.paired.csv,allpairs,cv=0.0,B=n^0.6,Results.csv\n",
      "data/chr03_orbit24.paired.csv,allpairs,cv=0.0,B=n^0.6,Results.csv\n",
      "data/chr03_orbit25.paired.csv,allpairs,cv=0.0,B=n^0.6,Results.csv\n",
      "data/chr03_orbit26.paired.csv,allpairs,cv=0.0,B=n^0.6,Results.csv\n",
      "data/chr03_orbit27.paired.csv,allpairs,cv=0.0,B=n^0.6,Results.csv\n",
      "data/chr03_orbit28.paired.csv,allpairs,cv=0.0,B=n^0.6,Results.csv\n",
      "data/chr03_orbit29.paired.csv,allpairs,cv=0.0,B=n^0.6,Results.csv\n",
      "data/chr03_orbit30.paired.csv,allpairs,cv=0.0,B=n^0.6,Results.csv\n",
      "data/chr03_orbit31.paired.csv,allpairs,cv=0.0,B=n^0.6,Results.csv\n",
      "data/chr03_orbit32.paired.csv,allpairs,cv=0.0,B=n^0.6,Results.csv\n",
      "data/chr03_orbit33.paired.csv,allpairs,cv=0.0,B=n^0.6,Results.csv\n",
      "data/chr03_orbit34.paired.csv,allpairs,cv=0.0,B=n^0.6,Results.csv\n",
      "data/chr03_orbit35.paired.csv,allpairs,cv=0.0,B=n^0.6,Results.csv\n",
      "data/chr03_orbit36.paired.csv,allpairs,cv=0.0,B=n^0.6,Results.csv\n",
      "data/chr03_orbit37.paired.csv,allpairs,cv=0.0,B=n^0.6,Results.csv\n",
      "data/chr03_orbit38.paired.csv,allpairs,cv=0.0,B=n^0.6,Results.csv\n",
      "data/chr03_orbit39.paired.csv,allpairs,cv=0.0,B=n^0.6,Results.csv\n",
      "data/chr03_orbit40.paired.csv,allpairs,cv=0.0,B=n^0.6,Results.csv\n",
      "data/chr03_orbit41.paired.csv,allpairs,cv=0.0,B=n^0.6,Results.csv\n",
      "data/chr03_orbit42.paired.csv,allpairs,cv=0.0,B=n^0.6,Results.csv\n",
      "data/chr03_orbit43.paired.csv,allpairs,cv=0.0,B=n^0.6,Results.csv\n",
      "data/chr03_orbit44.paired.csv,allpairs,cv=0.0,B=n^0.6,Results.csv\n",
      "data/chr03_orbit45.paired.csv,allpairs,cv=0.0,B=n^0.6,Results.csv\n",
      "data/chr03_orbit46.paired.csv,allpairs,cv=0.0,B=n^0.6,Results.csv\n",
      "data/chr03_orbit47.paired.csv,allpairs,cv=0.0,B=n^0.6,Results.csv\n",
      "data/chr03_orbit48.paired.csv,allpairs,cv=0.0,B=n^0.6,Results.csv\n",
      "data/chr03_orbit49.paired.csv,allpairs,cv=0.0,B=n^0.6,Results.csv\n",
      "data/chr03_orbit50.paired.csv,allpairs,cv=0.0,B=n^0.6,Results.csv\n",
      "data/chr03_orbit51.paired.csv,allpairs,cv=0.0,B=n^0.6,Results.csv\n",
      "data/chr03_orbit52.paired.csv,allpairs,cv=0.0,B=n^0.6,Results.csv\n",
      "data/chr03_orbit53.paired.csv,allpairs,cv=0.0,B=n^0.6,Results.csv\n",
      "data/chr03_orbit54.paired.csv,allpairs,cv=0.0,B=n^0.6,Results.csv\n",
      "data/chr03_orbit55.paired.csv,allpairs,cv=0.0,B=n^0.6,Results.csv\n",
      "data/chr03_orbit56.paired.csv,allpairs,cv=0.0,B=n^0.6,Results.csv\n",
      "data/chr03_orbit57.paired.csv,allpairs,cv=0.0,B=n^0.6,Results.csv\n",
      "data/chr03_orbit58.paired.csv,allpairs,cv=0.0,B=n^0.6,Results.csv\n",
      "data/chr03_orbit59.paired.csv,allpairs,cv=0.0,B=n^0.6,Results.csv\n",
      "data/chr03_orbit60.paired.csv,allpairs,cv=0.0,B=n^0.6,Results.csv\n",
      "data/chr03_orbit61.paired.csv,allpairs,cv=0.0,B=n^0.6,Results.csv\n",
      "data/chr03_orbit62.paired.csv,allpairs,cv=0.0,B=n^0.6,Results.csv\n",
      "data/chr03_orbit63.paired.csv,allpairs,cv=0.0,B=n^0.6,Results.csv\n",
      "data/chr03_orbit64.paired.csv,allpairs,cv=0.0,B=n^0.6,Results.csv\n",
      "data/chr03_orbit65.paired.csv,allpairs,cv=0.0,B=n^0.6,Results.csv\n",
      "data/chr03_orbit66.paired.csv,allpairs,cv=0.0,B=n^0.6,Results.csv\n",
      "data/chr03_orbit67.paired.csv,allpairs,cv=0.0,B=n^0.6,Results.csv\n",
      "data/chr03_orbit68.paired.csv,allpairs,cv=0.0,B=n^0.6,Results.csv\n",
      "data/chr03_orbit69.paired.csv,allpairs,cv=0.0,B=n^0.6,Results.csv\n",
      "data/chr03_orbit70.paired.csv,allpairs,cv=0.0,B=n^0.6,Results.csv\n",
      "data/chr03_orbit71.paired.csv,allpairs,cv=0.0,B=n^0.6,Results.csv\n",
      "data/chr03_orbit72.paired.csv,allpairs,cv=0.0,B=n^0.6,Results.csv\n"
     ]
    }
   ],
   "source": [
    "pairwise_hic = {}\n",
    "for key in graphlets:\n",
    "    pairwise_hic = {}\n",
    "    for key in graphlets:\n",
    "        pairwise_hic[key] = {}\n",
    "for orbit in range(73):\n",
    "    var1, var2, mic = get_mic_from_file\\\n",
    "        (\"data/chr%02d_orbit%02d.paired.csv,allpairs,cv=0.0,B=n^0.6,Results.csv\"\\\n",
    "         %(chr1, orbit))\n",
    "    n = len(var1)\n",
    "    for i in range(n):\n",
    "        pairwise_hic[var1[i]][var2[i]] = mic[i]\n",
    "        pairwise_hic[var2[i]][var1[i]] = mic[i]"
   ]
  },
  {
   "cell_type": "code",
   "execution_count": 155,
   "metadata": {},
   "outputs": [
    {
     "data": {
      "text/plain": [
       "{'all': {'call4': '0.13535', 'mit': '0.25577', 'rl': '0.48355'},\n",
       " 'call4': {'all': '0.13535', 'mit': '0.15115', 'rl': '0.12401'},\n",
       " 'mit': {'all': '0.25577', 'call4': '0.15115', 'rl': '0.31738'},\n",
       " 'rl': {'all': '0.48355', 'call4': '0.12401', 'mit': '0.31738'}}"
      ]
     },
     "execution_count": 155,
     "metadata": {},
     "output_type": "execute_result"
    }
   ],
   "source": [
    "pairwise_hic"
   ]
  },
  {
   "cell_type": "code",
   "execution_count": null,
   "metadata": {},
   "outputs": [],
   "source": []
  }
 ],
 "metadata": {
  "kernelspec": {
   "display_name": "Python 2",
   "language": "python",
   "name": "python2"
  },
  "language_info": {
   "codemirror_mode": {
    "name": "ipython",
    "version": 2
   },
   "file_extension": ".py",
   "mimetype": "text/x-python",
   "name": "python",
   "nbconvert_exporter": "python",
   "pygments_lexer": "ipython2",
   "version": "2.7.12"
  }
 },
 "nbformat": 4,
 "nbformat_minor": 2
}
